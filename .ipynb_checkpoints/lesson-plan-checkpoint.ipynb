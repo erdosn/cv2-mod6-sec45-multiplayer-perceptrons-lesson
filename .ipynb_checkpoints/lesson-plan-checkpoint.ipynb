{
 "cells": [
  {
   "cell_type": "markdown",
   "metadata": {},
   "source": [
    "Most of this code can be found at <a href='https://keras.io'>keras.io</a>"
   ]
  },
  {
   "cell_type": "markdown",
   "metadata": {},
   "source": [
    "## Questions\n",
    "- No questions right now...\n",
    "\n",
    "\n",
    "## Objectives \n",
    "YWBAT \n",
    "- build a neural network using keras\n",
    "- compare models based on their depth\n",
    "- *choose the best optimizer for a model*"
   ]
  },
  {
   "cell_type": "markdown",
   "metadata": {},
   "source": [
    "### Why do we use NNs?\n",
    "- identify combinations of features and learn combinations of features\n",
    "- reduces the need for domain expertise\n",
    "    - unstructured data is handled better\n",
    "    - ambiguous data"
   ]
  },
  {
   "cell_type": "markdown",
   "metadata": {},
   "source": [
    "### Outline\n",
    "* Import data\n",
    "* Build single layer model\n",
    "* Build 2 layer model\n",
    "* Students build their own deep learning model\n",
    "* evaluate models, tune optimizers"
   ]
  },
  {
   "cell_type": "markdown",
   "metadata": {},
   "source": [
    "# Useful Imports"
   ]
  },
  {
   "cell_type": "code",
   "execution_count": 2,
   "metadata": {
    "ExecuteTime": {
     "end_time": "2019-06-18T16:18:12.782645Z",
     "start_time": "2019-06-18T16:18:11.185732Z"
    }
   },
   "outputs": [
    {
     "name": "stderr",
     "output_type": "stream",
     "text": [
      "Using TensorFlow backend.\n"
     ]
    }
   ],
   "source": [
    "import keras\n",
    "import numpy as np\n",
    "import pandas as pd\n",
    "\n",
    "from sklearn.metrics import classification_report\n",
    "\n",
    "import matplotlib.pyplot as plt"
   ]
  },
  {
   "cell_type": "code",
   "execution_count": 3,
   "metadata": {
    "ExecuteTime": {
     "end_time": "2019-06-18T16:18:13.087187Z",
     "start_time": "2019-06-18T16:18:13.082385Z"
    }
   },
   "outputs": [],
   "source": [
    "from keras import models\n",
    "from keras import layers\n",
    "from keras import optimizers"
   ]
  },
  {
   "cell_type": "markdown",
   "metadata": {},
   "source": [
    "# Obtaining Dataset & Train-Test Split"
   ]
  },
  {
   "cell_type": "markdown",
   "metadata": {},
   "source": [
    "Nothing different from training other models"
   ]
  },
  {
   "cell_type": "code",
   "execution_count": 4,
   "metadata": {
    "ExecuteTime": {
     "end_time": "2019-06-18T16:18:13.048684Z",
     "start_time": "2019-06-18T16:18:12.784941Z"
    }
   },
   "outputs": [],
   "source": [
    "from sklearn.datasets import load_iris\n",
    "from sklearn.model_selection import train_test_split\n",
    "from sklearn.preprocessing import OneHotEncoder, StandardScaler\n",
    "\n",
    "iris = load_iris()\n",
    "x = iris['data']\n",
    "y = iris['target']\n",
    "names = iris['target_names']\n",
    "feature_names = iris['feature_names']\n",
    "\n",
    "# One hot encoding\n",
    "enc = OneHotEncoder()\n",
    "y = enc.fit_transform(y[:, np.newaxis]).toarray()\n",
    "\n",
    "# Scale data to have mean 0 and variance 1 \n",
    "# which is importance for convergence of the neural network\n",
    "scaler = StandardScaler()\n",
    "x_scaled = scaler.fit_transform(x)\n",
    "\n",
    "# Split the data set into training and testing\n",
    "x_train, x_test, y_train, y_test = train_test_split(x_scaled, y, test_size=0.4, random_state=2)"
   ]
  },
  {
   "cell_type": "code",
   "execution_count": 5,
   "metadata": {},
   "outputs": [
    {
     "data": {
      "text/plain": [
       "'\\nAttribute Information:\\n\\nfLength: continuous # major axis of ellipse [mm]\\nfWidth: continuous # minor axis of ellipse [mm]\\nfSize: continuous # 10-log of sum of content of all pixels [in #phot]\\nfConc: continuous # ratio of sum of two highest pixels over fSize [ratio]\\nfConc1: continuous # ratio of highest pixel over fSize [ratio]\\nfAsym: continuous # distance from highest pixel to center, projected onto major axis [mm]\\nfM3Long: continuous # 3rd root of third moment along major axis [mm]\\nfM3Trans: continuous # 3rd root of third moment along minor axis [mm]\\nfAlpha: continuous # angle of major axis with vector to origin [deg]\\nfDist: continuous # distance from origin to center of ellipse [mm]\\nclass: g,h # gamma (signal), hadron (background)\\n'"
      ]
     },
     "execution_count": 5,
     "metadata": {},
     "output_type": "execute_result"
    }
   ],
   "source": [
    "\"\"\"\n",
    "Attribute Information:\n",
    "\n",
    "fLength: continuous # major axis of ellipse [mm]\n",
    "fWidth: continuous # minor axis of ellipse [mm]\n",
    "fSize: continuous # 10-log of sum of content of all pixels [in #phot]\n",
    "fConc: continuous # ratio of sum of two highest pixels over fSize [ratio]\n",
    "fConc1: continuous # ratio of highest pixel over fSize [ratio]\n",
    "fAsym: continuous # distance from highest pixel to center, projected onto major axis [mm]\n",
    "fM3Long: continuous # 3rd root of third moment along major axis [mm]\n",
    "fM3Trans: continuous # 3rd root of third moment along minor axis [mm]\n",
    "fAlpha: continuous # angle of major axis with vector to origin [deg]\n",
    "fDist: continuous # distance from origin to center of ellipse [mm]\n",
    "class: g,h # gamma (signal), hadron (background)\n",
    "\"\"\""
   ]
  },
  {
   "cell_type": "code",
   "execution_count": 6,
   "metadata": {},
   "outputs": [
    {
     "data": {
      "text/html": [
       "<div>\n",
       "<style scoped>\n",
       "    .dataframe tbody tr th:only-of-type {\n",
       "        vertical-align: middle;\n",
       "    }\n",
       "\n",
       "    .dataframe tbody tr th {\n",
       "        vertical-align: top;\n",
       "    }\n",
       "\n",
       "    .dataframe thead th {\n",
       "        text-align: right;\n",
       "    }\n",
       "</style>\n",
       "<table border=\"1\" class=\"dataframe\">\n",
       "  <thead>\n",
       "    <tr style=\"text-align: right;\">\n",
       "      <th></th>\n",
       "      <th>ID</th>\n",
       "      <th>fLength:</th>\n",
       "      <th>fWidth:</th>\n",
       "      <th>fSize:</th>\n",
       "      <th>fConc:</th>\n",
       "      <th>fConc1:</th>\n",
       "      <th>fAsym:</th>\n",
       "      <th>fM3Long:</th>\n",
       "      <th>fM3Trans:</th>\n",
       "      <th>fAlpha:</th>\n",
       "      <th>fDist:</th>\n",
       "      <th>class:</th>\n",
       "    </tr>\n",
       "  </thead>\n",
       "  <tbody>\n",
       "    <tr>\n",
       "      <td>0</td>\n",
       "      <td>1</td>\n",
       "      <td>28.7967</td>\n",
       "      <td>16.0021</td>\n",
       "      <td>2.6449</td>\n",
       "      <td>0.3918</td>\n",
       "      <td>0.1982</td>\n",
       "      <td>27.7004</td>\n",
       "      <td>22.0110</td>\n",
       "      <td>-8.2027</td>\n",
       "      <td>40.0920</td>\n",
       "      <td>81.8828</td>\n",
       "      <td>g</td>\n",
       "    </tr>\n",
       "    <tr>\n",
       "      <td>1</td>\n",
       "      <td>2</td>\n",
       "      <td>31.6036</td>\n",
       "      <td>11.7235</td>\n",
       "      <td>2.5185</td>\n",
       "      <td>0.5303</td>\n",
       "      <td>0.3773</td>\n",
       "      <td>26.2722</td>\n",
       "      <td>23.8238</td>\n",
       "      <td>-9.9574</td>\n",
       "      <td>6.3609</td>\n",
       "      <td>205.2610</td>\n",
       "      <td>g</td>\n",
       "    </tr>\n",
       "  </tbody>\n",
       "</table>\n",
       "</div>"
      ],
      "text/plain": [
       "   ID  fLength:  fWidth:  fSize:  fConc:  fConc1:   fAsym:  fM3Long:  \\\n",
       "0   1   28.7967  16.0021  2.6449  0.3918   0.1982  27.7004   22.0110   \n",
       "1   2   31.6036  11.7235  2.5185  0.5303   0.3773  26.2722   23.8238   \n",
       "\n",
       "   fM3Trans:  fAlpha:    fDist: class:  \n",
       "0    -8.2027  40.0920   81.8828      g  \n",
       "1    -9.9574   6.3609  205.2610      g  "
      ]
     },
     "metadata": {},
     "output_type": "display_data"
    },
    {
     "data": {
      "text/html": [
       "<div>\n",
       "<style scoped>\n",
       "    .dataframe tbody tr th:only-of-type {\n",
       "        vertical-align: middle;\n",
       "    }\n",
       "\n",
       "    .dataframe tbody tr th {\n",
       "        vertical-align: top;\n",
       "    }\n",
       "\n",
       "    .dataframe thead th {\n",
       "        text-align: right;\n",
       "    }\n",
       "</style>\n",
       "<table border=\"1\" class=\"dataframe\">\n",
       "  <thead>\n",
       "    <tr style=\"text-align: right;\">\n",
       "      <th></th>\n",
       "      <th>fLength:</th>\n",
       "      <th>fWidth:</th>\n",
       "      <th>fSize:</th>\n",
       "      <th>fConc:</th>\n",
       "      <th>fConc1:</th>\n",
       "      <th>fAsym:</th>\n",
       "      <th>fM3Long:</th>\n",
       "      <th>fM3Trans:</th>\n",
       "      <th>fAlpha:</th>\n",
       "      <th>fDist:</th>\n",
       "      <th>class:</th>\n",
       "    </tr>\n",
       "  </thead>\n",
       "  <tbody>\n",
       "    <tr>\n",
       "      <td>0</td>\n",
       "      <td>28.7967</td>\n",
       "      <td>16.0021</td>\n",
       "      <td>2.6449</td>\n",
       "      <td>0.3918</td>\n",
       "      <td>0.1982</td>\n",
       "      <td>27.7004</td>\n",
       "      <td>22.0110</td>\n",
       "      <td>-8.2027</td>\n",
       "      <td>40.0920</td>\n",
       "      <td>81.8828</td>\n",
       "      <td>g</td>\n",
       "    </tr>\n",
       "    <tr>\n",
       "      <td>1</td>\n",
       "      <td>31.6036</td>\n",
       "      <td>11.7235</td>\n",
       "      <td>2.5185</td>\n",
       "      <td>0.5303</td>\n",
       "      <td>0.3773</td>\n",
       "      <td>26.2722</td>\n",
       "      <td>23.8238</td>\n",
       "      <td>-9.9574</td>\n",
       "      <td>6.3609</td>\n",
       "      <td>205.2610</td>\n",
       "      <td>g</td>\n",
       "    </tr>\n",
       "  </tbody>\n",
       "</table>\n",
       "</div>"
      ],
      "text/plain": [
       "   fLength:  fWidth:  fSize:  fConc:  fConc1:   fAsym:  fM3Long:  fM3Trans:  \\\n",
       "0   28.7967  16.0021  2.6449  0.3918   0.1982  27.7004   22.0110    -8.2027   \n",
       "1   31.6036  11.7235  2.5185  0.5303   0.3773  26.2722   23.8238    -9.9574   \n",
       "\n",
       "   fAlpha:    fDist: class:  \n",
       "0  40.0920   81.8828      g  \n",
       "1   6.3609  205.2610      g  "
      ]
     },
     "execution_count": 6,
     "metadata": {},
     "output_type": "execute_result"
    }
   ],
   "source": [
    "### Let's load in some custom data\n",
    "df = pd.read_csv(\"MagicTelescope.csv\")\n",
    "display(df.head(2))\n",
    "df.drop(\"ID\", axis=1, inplace=True)\n",
    "df.head(2)"
   ]
  },
  {
   "cell_type": "code",
   "execution_count": 7,
   "metadata": {},
   "outputs": [
    {
     "data": {
      "text/plain": [
       "(19020,)"
      ]
     },
     "execution_count": 7,
     "metadata": {},
     "output_type": "execute_result"
    }
   ],
   "source": [
    "X, y = df.drop('class:', axis=1), df[\"class:\"]\n",
    "y.shape"
   ]
  },
  {
   "cell_type": "code",
   "execution_count": 8,
   "metadata": {},
   "outputs": [
    {
     "data": {
      "text/plain": [
       "((19020, 2), array([[1., 0.],\n",
       "        [1., 0.],\n",
       "        [1., 0.],\n",
       "        ...,\n",
       "        [0., 1.],\n",
       "        [0., 1.],\n",
       "        [0., 1.]]))"
      ]
     },
     "execution_count": 8,
     "metadata": {},
     "output_type": "execute_result"
    }
   ],
   "source": [
    "# one-hot encode your target in order to use softmax activation\n",
    "# softmax activation is better under optimization\n",
    "enc = OneHotEncoder()\n",
    "y = enc.fit_transform(y[:, np.newaxis]).toarray()\n",
    "y.shape, y"
   ]
  },
  {
   "cell_type": "markdown",
   "metadata": {},
   "source": [
    "### What did we learn?\n",
    "- use Relu on dense layers that aren't going to the output\n",
    "- onehotencode target (even if binary) because\n",
    "    - because we can then use `softmax` activation\n",
    "    - `softmax` activation performs much better than `sigmoid` under gradient descent"
   ]
  },
  {
   "cell_type": "code",
   "execution_count": null,
   "metadata": {},
   "outputs": [],
   "source": []
  },
  {
   "cell_type": "code",
   "execution_count": null,
   "metadata": {},
   "outputs": [],
   "source": []
  },
  {
   "cell_type": "code",
   "execution_count": null,
   "metadata": {},
   "outputs": [],
   "source": []
  },
  {
   "cell_type": "code",
   "execution_count": 9,
   "metadata": {},
   "outputs": [],
   "source": [
    "scaler = StandardScaler()\n",
    "x_scaled = scaler.fit_transform(X)\n",
    "\n",
    "# Split the data set into training and testing\n",
    "x_train, x_test, y_train, y_test = train_test_split(x_scaled, y, test_size=0.4, random_state=2)"
   ]
  },
  {
   "cell_type": "code",
   "execution_count": 10,
   "metadata": {},
   "outputs": [
    {
     "data": {
      "text/plain": [
       "((11412, 10), (7608, 10), (11412, 2), (7608, 2))"
      ]
     },
     "execution_count": 10,
     "metadata": {},
     "output_type": "execute_result"
    }
   ],
   "source": [
    "x_train.shape, x_test.shape, y_train.shape, y_test.shape "
   ]
  },
  {
   "cell_type": "markdown",
   "metadata": {},
   "source": [
    "# Creating a Neural Network"
   ]
  },
  {
   "cell_type": "markdown",
   "metadata": {},
   "source": [
    "`Sequential` is referring to the neural networks we've observed. There are other neural network models that will go beyond this class."
   ]
  },
  {
   "cell_type": "code",
   "execution_count": 11,
   "metadata": {
    "ExecuteTime": {
     "end_time": "2019-06-18T16:18:13.126356Z",
     "start_time": "2019-06-18T16:18:13.090188Z"
    }
   },
   "outputs": [
    {
     "name": "stderr",
     "output_type": "stream",
     "text": [
      "WARNING: Logging before flag parsing goes to stderr.\n",
      "W0407 12:50:50.084099 140735865734016 deprecation_wrapper.py:119] From /Users/rafael/anaconda3/envs/flatiron-env/lib/python3.6/site-packages/keras/backend/tensorflow_backend.py:74: The name tf.get_default_graph is deprecated. Please use tf.compat.v1.get_default_graph instead.\n",
      "\n"
     ]
    }
   ],
   "source": [
    "from keras.models import Sequential # this just means we go through our network in order of our layers\n",
    "\n",
    "model = Sequential()"
   ]
  },
  {
   "cell_type": "markdown",
   "metadata": {},
   "source": [
    "The actual network; we can decide how many layers & nodes for each layer here as well as other hyperparameters like the activation function."
   ]
  },
  {
   "cell_type": "code",
   "execution_count": 12,
   "metadata": {
    "ExecuteTime": {
     "end_time": "2019-06-18T19:28:01.843032Z",
     "start_time": "2019-06-18T19:27:59.181321Z"
    }
   },
   "outputs": [
    {
     "name": "stderr",
     "output_type": "stream",
     "text": [
      "W0407 12:50:53.271369 140735865734016 deprecation_wrapper.py:119] From /Users/rafael/anaconda3/envs/flatiron-env/lib/python3.6/site-packages/keras/backend/tensorflow_backend.py:517: The name tf.placeholder is deprecated. Please use tf.compat.v1.placeholder instead.\n",
      "\n",
      "W0407 12:50:53.286070 140735865734016 deprecation_wrapper.py:119] From /Users/rafael/anaconda3/envs/flatiron-env/lib/python3.6/site-packages/keras/backend/tensorflow_backend.py:4138: The name tf.random_uniform is deprecated. Please use tf.random.uniform instead.\n",
      "\n"
     ]
    }
   ],
   "source": [
    "from keras.layers import Dense\n",
    "\n",
    "model = Sequential()\n",
    "\n",
    "# first hidden layer\n",
    "model.add(Dense(units=32, activation='relu', input_dim=10, use_bias=True))\n",
    "\n",
    "# output layer\n",
    "model.add(Dense(units=2, activation='softmax'))"
   ]
  },
  {
   "cell_type": "code",
   "execution_count": 13,
   "metadata": {},
   "outputs": [
    {
     "name": "stdout",
     "output_type": "stream",
     "text": [
      "_________________________________________________________________\n",
      "Layer (type)                 Output Shape              Param #   \n",
      "=================================================================\n",
      "dense_1 (Dense)              (None, 32)                352       \n",
      "_________________________________________________________________\n",
      "dense_2 (Dense)              (None, 2)                 66        \n",
      "=================================================================\n",
      "Total params: 418\n",
      "Trainable params: 418\n",
      "Non-trainable params: 0\n",
      "_________________________________________________________________\n"
     ]
    }
   ],
   "source": [
    "model.summary()\n",
    "\n",
    "# if bias:\n",
    "#     param = (input+1)*units = edges -> number of weights"
   ]
  },
  {
   "cell_type": "markdown",
   "metadata": {},
   "source": [
    "Compile the model to a form that the computer can more easily work with"
   ]
  },
  {
   "cell_type": "code",
   "execution_count": 14,
   "metadata": {
    "ExecuteTime": {
     "end_time": "2019-06-18T16:18:13.223984Z",
     "start_time": "2019-06-18T16:18:13.187420Z"
    }
   },
   "outputs": [
    {
     "name": "stderr",
     "output_type": "stream",
     "text": [
      "W0407 12:50:58.513242 140735865734016 deprecation_wrapper.py:119] From /Users/rafael/anaconda3/envs/flatiron-env/lib/python3.6/site-packages/keras/optimizers.py:790: The name tf.train.Optimizer is deprecated. Please use tf.compat.v1.train.Optimizer instead.\n",
      "\n",
      "W0407 12:50:58.521670 140735865734016 deprecation_wrapper.py:119] From /Users/rafael/anaconda3/envs/flatiron-env/lib/python3.6/site-packages/keras/backend/tensorflow_backend.py:3295: The name tf.log is deprecated. Please use tf.math.log instead.\n",
      "\n"
     ]
    }
   ],
   "source": [
    "# stochastic gradient descent with momentum as our optimizer\n",
    "model_optimizer = optimizers.SGD(lr=0.001, momentum=0.9, nesterov=True)\n",
    "\n",
    "model.compile(loss=keras.losses.categorical_crossentropy, \n",
    "              optimizer=model_optimizer)"
   ]
  },
  {
   "cell_type": "markdown",
   "metadata": {},
   "source": [
    "# Using the Model"
   ]
  },
  {
   "cell_type": "markdown",
   "metadata": {},
   "source": [
    "Using the model structure, we do sequences of feedfoward and then backpropagation to adjust the weights and biases (training/fitting)"
   ]
  },
  {
   "cell_type": "code",
   "execution_count": null,
   "metadata": {
    "ExecuteTime": {
     "end_time": "2019-06-18T16:18:23.443468Z",
     "start_time": "2019-06-18T16:18:13.227101Z"
    },
    "scrolled": false
   },
   "outputs": [
    {
     "name": "stderr",
     "output_type": "stream",
     "text": [
      "W0407 12:51:00.962094 140735865734016 deprecation.py:323] From /Users/rafael/anaconda3/envs/flatiron-env/lib/python3.6/site-packages/tensorflow/python/ops/math_grad.py:1250: add_dispatch_support.<locals>.wrapper (from tensorflow.python.ops.array_ops) is deprecated and will be removed in a future version.\n",
      "Instructions for updating:\n",
      "Use tf.where in 2.0, which has the same broadcast rule as np.where\n",
      "W0407 12:51:01.006144 140735865734016 deprecation_wrapper.py:119] From /Users/rafael/anaconda3/envs/flatiron-env/lib/python3.6/site-packages/keras/backend/tensorflow_backend.py:986: The name tf.assign_add is deprecated. Please use tf.compat.v1.assign_add instead.\n",
      "\n"
     ]
    },
    {
     "name": "stdout",
     "output_type": "stream",
     "text": [
      "Epoch 1/50\n",
      "11412/11412 [==============================] - 0s 41us/step - loss: 0.5706\n",
      "Epoch 2/50\n",
      "11412/11412 [==============================] - 0s 22us/step - loss: 0.4445\n",
      "Epoch 3/50\n",
      "11412/11412 [==============================] - 0s 21us/step - loss: 0.4165\n",
      "Epoch 4/50\n",
      "11412/11412 [==============================] - 0s 21us/step - loss: 0.4028\n",
      "Epoch 5/50\n",
      "11412/11412 [==============================] - 0s 20us/step - loss: 0.3940\n",
      "Epoch 6/50\n",
      "11412/11412 [==============================] - 0s 20us/step - loss: 0.3873\n",
      "Epoch 7/50\n",
      "11412/11412 [==============================] - 0s 21us/step - loss: 0.3821\n",
      "Epoch 8/50\n",
      "11412/11412 [==============================] - 0s 24us/step - loss: 0.3775\n",
      "Epoch 9/50\n",
      "11412/11412 [==============================] - 0s 21us/step - loss: 0.3736\n",
      "Epoch 10/50\n",
      "11412/11412 [==============================] - 0s 21us/step - loss: 0.3697\n",
      "Epoch 11/50\n",
      "11412/11412 [==============================] - 0s 22us/step - loss: 0.3666\n",
      "Epoch 12/50\n",
      "11412/11412 [==============================] - 0s 21us/step - loss: 0.3639\n",
      "Epoch 13/50\n",
      "11412/11412 [==============================] - 0s 21us/step - loss: 0.3615\n",
      "Epoch 14/50\n",
      "11412/11412 [==============================] - 0s 22us/step - loss: 0.3589\n",
      "Epoch 15/50\n",
      "11412/11412 [==============================] - 0s 20us/step - loss: 0.3567\n",
      "Epoch 16/50\n",
      "11412/11412 [==============================] - 0s 21us/step - loss: 0.3550\n",
      "Epoch 17/50\n",
      "11412/11412 [==============================] - 0s 24us/step - loss: 0.3532\n",
      "Epoch 18/50\n",
      "11412/11412 [==============================] - 0s 21us/step - loss: 0.3516\n",
      "Epoch 19/50\n",
      "11412/11412 [==============================] - 0s 20us/step - loss: 0.3499\n",
      "Epoch 20/50\n",
      "11412/11412 [==============================] - 0s 22us/step - loss: 0.3487\n",
      "Epoch 21/50\n",
      "11412/11412 [==============================] - 0s 20us/step - loss: 0.3470\n",
      "Epoch 22/50\n",
      "11412/11412 [==============================] - 0s 21us/step - loss: 0.3457\n",
      "Epoch 23/50\n",
      "11412/11412 [==============================] - 0s 21us/step - loss: 0.3445\n",
      "Epoch 24/50\n",
      "11412/11412 [==============================] - 0s 20us/step - loss: 0.3434\n",
      "Epoch 25/50\n",
      "11412/11412 [==============================] - 0s 20us/step - loss: 0.3423\n",
      "Epoch 26/50\n",
      "11412/11412 [==============================] - 0s 21us/step - loss: 0.3411\n",
      "Epoch 27/50\n",
      "11412/11412 [==============================] - 0s 20us/step - loss: 0.3400\n",
      "Epoch 28/50\n",
      "11412/11412 [==============================] - 0s 20us/step - loss: 0.3391\n",
      "Epoch 29/50\n",
      "11412/11412 [==============================] - 0s 20us/step - loss: 0.3381\n",
      "Epoch 30/50\n",
      "11412/11412 [==============================] - 0s 20us/step - loss: 0.3371\n",
      "Epoch 31/50\n",
      "11412/11412 [==============================] - 0s 22us/step - loss: 0.3362\n",
      "Epoch 32/50\n",
      "11412/11412 [==============================] - 0s 22us/step - loss: 0.3357\n",
      "Epoch 33/50\n",
      "11412/11412 [==============================] - 0s 23us/step - loss: 0.3346\n",
      "Epoch 34/50\n",
      "11412/11412 [==============================] - 0s 22us/step - loss: 0.3340\n",
      "Epoch 35/50\n",
      "11412/11412 [==============================] - 0s 22us/step - loss: 0.3332\n",
      "Epoch 36/50\n",
      "11412/11412 [==============================] - 0s 22us/step - loss: 0.3323\n",
      "Epoch 37/50\n",
      "11412/11412 [==============================] - 0s 21us/step - loss: 0.3315\n",
      "Epoch 38/50\n",
      "11412/11412 [==============================] - 0s 22us/step - loss: 0.3312\n",
      "Epoch 39/50\n",
      "11412/11412 [==============================] - 0s 23us/step - loss: 0.3304\n",
      "Epoch 40/50\n",
      "11412/11412 [==============================] - 0s 26us/step - loss: 0.3298\n",
      "Epoch 41/50\n",
      "11412/11412 [==============================] - 0s 21us/step - loss: 0.3290\n",
      "Epoch 42/50\n",
      "11412/11412 [==============================] - 0s 20us/step - loss: 0.3283\n",
      "Epoch 43/50\n",
      "11412/11412 [==============================] - 0s 23us/step - loss: 0.3280\n",
      "Epoch 44/50\n",
      "   32/11412 [..............................] - ETA: 0s - loss: 0.2318"
     ]
    }
   ],
   "source": [
    "history = model.fit(x_train, y_train, epochs=50, batch_size=32, verbose=1)"
   ]
  },
  {
   "cell_type": "code",
   "execution_count": 24,
   "metadata": {},
   "outputs": [
    {
     "data": {
      "image/png": "[encoded data removed]",
      "text/plain": [
       "<Figure size 936x576 with 1 Axes>"
      ]
     },
     "metadata": {
      "needs_background": "light"
     },
     "output_type": "display_data"
    }
   ],
   "source": [
    "def plot_history(history, figsize=(13, 8), color='purple', s=50, alpha=0.5):\n",
    "    plt.figure(figsize=figsize)\n",
    "    plt.grid(zorder=0, linestyle='--')\n",
    "    plt.scatter(history.epoch, history.history[\"loss\"], c=color, s=s, alpha=alpha)\n",
    "    plt.xlabel(\"epochs\")\n",
    "    plt.ylabel(\"loss\")\n",
    "    plt.show()\n",
    "    \n",
    "    \n",
    "plot_history(history)"
   ]
  },
  {
   "cell_type": "markdown",
   "metadata": {},
   "source": [
    "# Evaluating the Trained Model"
   ]
  },
  {
   "cell_type": "markdown",
   "metadata": {},
   "source": [
    "We can look at the overall loss from our test data after training the model was trained"
   ]
  },
  {
   "cell_type": "code",
   "execution_count": 25,
   "metadata": {
    "ExecuteTime": {
     "end_time": "2019-06-18T16:18:23.607022Z",
     "start_time": "2019-06-18T16:18:23.453388Z"
    }
   },
   "outputs": [
    {
     "name": "stdout",
     "output_type": "stream",
     "text": [
      "7608/7608 [==============================] - 0s 26us/step\n"
     ]
    },
    {
     "data": {
      "text/plain": [
       "0.34130648217241344"
      ]
     },
     "execution_count": 25,
     "metadata": {},
     "output_type": "execute_result"
    }
   ],
   "source": [
    "# Could also just use a batch to evaluate\n",
    "loss_and_metrics = model.evaluate(x_test, y_test)\n",
    "\n",
    "loss_and_metrics"
   ]
  },
  {
   "cell_type": "markdown",
   "metadata": {},
   "source": [
    "We can have predictions (probability the data point is a particular class based on our trained model)"
   ]
  },
  {
   "cell_type": "code",
   "execution_count": 27,
   "metadata": {
    "ExecuteTime": {
     "end_time": "2019-06-18T16:18:23.701142Z",
     "start_time": "2019-06-18T16:18:23.613540Z"
    },
    "scrolled": true
   },
   "outputs": [
    {
     "data": {
      "text/plain": [
       "array([[0.951692  , 0.04830799],\n",
       "       [0.66848296, 0.3315171 ],\n",
       "       [0.90443546, 0.09556455],\n",
       "       [0.22082357, 0.7791764 ],\n",
       "       [0.6140301 , 0.3859699 ],\n",
       "       [0.02659238, 0.9734076 ],\n",
       "       [0.6162363 , 0.3837637 ],\n",
       "       [0.89856666, 0.10143326],\n",
       "       [0.78870684, 0.21129315],\n",
       "       [0.8768707 , 0.12312932]], dtype=float32)"
      ]
     },
     "execution_count": 27,
     "metadata": {},
     "output_type": "execute_result"
    }
   ],
   "source": [
    "probs = model.predict(x_test)\n",
    "probs[:10]"
   ]
  },
  {
   "cell_type": "markdown",
   "metadata": {},
   "source": [
    "We want to say what is the predicted class, so we pick just the largest probability for each result"
   ]
  },
  {
   "cell_type": "code",
   "execution_count": 28,
   "metadata": {
    "ExecuteTime": {
     "end_time": "2019-06-18T16:18:23.706830Z",
     "start_time": "2019-06-18T16:18:23.703922Z"
    }
   },
   "outputs": [
    {
     "data": {
      "text/plain": [
       "array([0, 0, 0, 1, 0, 1, 0, 0, 0, 0])"
      ]
     },
     "execution_count": 28,
     "metadata": {},
     "output_type": "execute_result"
    }
   ],
   "source": [
    "predictions = np.argmax(probs, axis=1)\n",
    "\n",
    "predictions[:10]"
   ]
  },
  {
   "cell_type": "code",
   "execution_count": 29,
   "metadata": {
    "ExecuteTime": {
     "end_time": "2019-06-18T16:18:23.715400Z",
     "start_time": "2019-06-18T16:18:23.708557Z"
    }
   },
   "outputs": [
    {
     "data": {
      "text/plain": [
       "array([0.85922713])"
      ]
     },
     "execution_count": 29,
     "metadata": {},
     "output_type": "execute_result"
    }
   ],
   "source": [
    "np.sum(predictions  == np.argmax(y_test, axis=1)) / predictions.shape"
   ]
  },
  {
   "cell_type": "code",
   "execution_count": 30,
   "metadata": {},
   "outputs": [
    {
     "name": "stdout",
     "output_type": "stream",
     "text": [
      "              precision    recall  f1-score   support\n",
      "\n",
      "           0       0.86      0.93      0.89      4889\n",
      "           1       0.86      0.73      0.79      2719\n",
      "\n",
      "    accuracy                           0.86      7608\n",
      "   macro avg       0.86      0.83      0.84      7608\n",
      "weighted avg       0.86      0.86      0.86      7608\n",
      "\n"
     ]
    }
   ],
   "source": [
    "report = classification_report(y_test.argmax(axis=1), predictions, labels=[0, 1])\n",
    "print(report)"
   ]
  },
  {
   "cell_type": "markdown",
   "metadata": {},
   "source": [
    "Finally, we can see how accurate our model was by seeing if the predicted classes match the actual labels. Note that this is calculated differently from how the loss is calculated."
   ]
  },
  {
   "cell_type": "markdown",
   "metadata": {},
   "source": [
    "### But Behold!!!! An out of the box RFC comes into the fold! "
   ]
  },
  {
   "cell_type": "code",
   "execution_count": 31,
   "metadata": {},
   "outputs": [],
   "source": [
    "from sklearn.ensemble import RandomForestClassifier"
   ]
  },
  {
   "cell_type": "code",
   "execution_count": 32,
   "metadata": {},
   "outputs": [],
   "source": [
    "clf = RandomForestClassifier()"
   ]
  },
  {
   "cell_type": "code",
   "execution_count": 33,
   "metadata": {},
   "outputs": [
    {
     "name": "stderr",
     "output_type": "stream",
     "text": [
      "/Users/rafael/anaconda3/envs/flatiron-env/lib/python3.6/site-packages/sklearn/ensemble/forest.py:245: FutureWarning: The default value of n_estimators will change from 10 in version 0.20 to 100 in 0.22.\n",
      "  \"10 in version 0.20 to 100 in 0.22.\", FutureWarning)\n"
     ]
    },
    {
     "data": {
      "text/plain": [
       "RandomForestClassifier(bootstrap=True, class_weight=None, criterion='gini',\n",
       "                       max_depth=None, max_features='auto', max_leaf_nodes=None,\n",
       "                       min_impurity_decrease=0.0, min_impurity_split=None,\n",
       "                       min_samples_leaf=1, min_samples_split=2,\n",
       "                       min_weight_fraction_leaf=0.0, n_estimators=10,\n",
       "                       n_jobs=None, oob_score=False, random_state=None,\n",
       "                       verbose=0, warm_start=False)"
      ]
     },
     "execution_count": 33,
     "metadata": {},
     "output_type": "execute_result"
    }
   ],
   "source": [
    "clf.fit(x_train, y_train)"
   ]
  },
  {
   "cell_type": "code",
   "execution_count": 34,
   "metadata": {},
   "outputs": [
    {
     "data": {
      "text/plain": [
       "0.8372765509989485"
      ]
     },
     "execution_count": 34,
     "metadata": {},
     "output_type": "execute_result"
    }
   ],
   "source": [
    "clf_preds = clf.predict(x_test)\n",
    "clf.score(x_test, y_test)"
   ]
  },
  {
   "cell_type": "code",
   "execution_count": 35,
   "metadata": {},
   "outputs": [
    {
     "name": "stdout",
     "output_type": "stream",
     "text": [
      "              precision    recall  f1-score   support\n",
      "\n",
      "           0       0.88      0.90      0.89      4889\n",
      "           1       0.87      0.72      0.79      2719\n",
      "\n",
      "   micro avg       0.88      0.84      0.86      7608\n",
      "   macro avg       0.87      0.81      0.84      7608\n",
      "weighted avg       0.88      0.84      0.85      7608\n",
      " samples avg       0.84      0.84      0.84      7608\n",
      "\n"
     ]
    },
    {
     "name": "stderr",
     "output_type": "stream",
     "text": [
      "/Users/rafael/anaconda3/envs/flatiron-env/lib/python3.6/site-packages/sklearn/metrics/classification.py:1437: UndefinedMetricWarning: Precision and F-score are ill-defined and being set to 0.0 in samples with no predicted labels.\n",
      "  'precision', 'predicted', average, warn_for)\n"
     ]
    }
   ],
   "source": [
    "report = classification_report(y_test, clf_preds)\n",
    "print(report)"
   ]
  },
  {
   "cell_type": "markdown",
   "metadata": {},
   "source": [
    "### What did we learn?\n",
    "- NN are good for a lot of things, but are just another model\n",
    "- Learned that the bias term is incorporated as a unit node to the layer. "
   ]
  },
  {
   "cell_type": "markdown",
   "metadata": {},
   "source": [
    "### Let's add another Layer"
   ]
  },
  {
   "cell_type": "code",
   "execution_count": 36,
   "metadata": {},
   "outputs": [
    {
     "name": "stdout",
     "output_type": "stream",
     "text": [
      "_________________________________________________________________\n",
      "Layer (type)                 Output Shape              Param #   \n",
      "=================================================================\n",
      "dense_7 (Dense)              (None, 16)                176       \n",
      "_________________________________________________________________\n",
      "dense_8 (Dense)              (None, 32)                544       \n",
      "_________________________________________________________________\n",
      "dense_9 (Dense)              (None, 2)                 66        \n",
      "=================================================================\n",
      "Total params: 786\n",
      "Trainable params: 786\n",
      "Non-trainable params: 0\n",
      "_________________________________________________________________\n"
     ]
    }
   ],
   "source": [
    "### Let's build a new model and add another layer\n",
    "model_mlp = Sequential()\n",
    "\n",
    "\n",
    "# hidden layers\n",
    "model_mlp.add(Dense(input_dim=10, units=16, activation='relu'))\n",
    "model_mlp.add(Dense(units=32, activation='relu'))\n",
    "\n",
    "\n",
    "# classifier layer\n",
    "model_mlp.add(Dense(units=2, activation='softmax'))\n",
    "\n",
    "\n",
    "model_mlp.summary()"
   ]
  },
  {
   "cell_type": "code",
   "execution_count": 37,
   "metadata": {
    "scrolled": false
   },
   "outputs": [
    {
     "name": "stdout",
     "output_type": "stream",
     "text": [
      "Epoch 1/50\n",
      "11412/11412 [==============================] - 1s 90us/step - loss: 0.5610\n",
      "Epoch 2/50\n",
      "11412/11412 [==============================] - 1s 57us/step - loss: 0.4526\n",
      "Epoch 3/50\n",
      "11412/11412 [==============================] - 1s 54us/step - loss: 0.4187: 0s - loss: \n",
      "Epoch 4/50\n",
      "11412/11412 [==============================] - 1s 51us/step - loss: 0.4021: 0s - loss: 0.406 - ETA: 0s - loss: 0.4\n",
      "Epoch 5/50\n",
      "11412/11412 [==============================] - 0s 43us/step - loss: 0.3911\n",
      "Epoch 6/50\n",
      "11412/11412 [==============================] - 1s 50us/step - loss: 0.3832\n",
      "Epoch 7/50\n",
      "11412/11412 [==============================] - 1s 55us/step - loss: 0.3768\n",
      "Epoch 8/50\n",
      "11412/11412 [==============================] - 1s 69us/step - loss: 0.3716: 0s - loss: 0.3 - ETA: 0s - loss: 0.3\n",
      "Epoch 9/50\n",
      "11412/11412 [==============================] - 1s 58us/step - loss: 0.3676\n",
      "Epoch 10/50\n",
      "11412/11412 [==============================] - 1s 62us/step - loss: 0.3639\n",
      "Epoch 11/50\n",
      "11412/11412 [==============================] - 1s 54us/step - loss: 0.3606: 0s - loss: 0.360\n",
      "Epoch 12/50\n",
      "11412/11412 [==============================] - 1s 52us/step - loss: 0.3578\n",
      "Epoch 13/50\n",
      "11412/11412 [==============================] - 1s 47us/step - loss: 0.3552\n",
      "Epoch 14/50\n",
      "11412/11412 [==============================] - 1s 50us/step - loss: 0.3527: 0s - loss: 0.3\n",
      "Epoch 15/50\n",
      "11412/11412 [==============================] - 1s 51us/step - loss: 0.3502: 0s - loss:\n",
      "Epoch 16/50\n",
      "11412/11412 [==============================] - 1s 53us/step - loss: 0.3480\n",
      "Epoch 17/50\n",
      "11412/11412 [==============================] - 1s 51us/step - loss: 0.3460\n",
      "Epoch 18/50\n",
      "11412/11412 [==============================] - 1s 46us/step - loss: 0.3438\n",
      "Epoch 19/50\n",
      "11412/11412 [==============================] - 1s 50us/step - loss: 0.3419\n",
      "Epoch 20/50\n",
      "11412/11412 [==============================] - 1s 51us/step - loss: 0.3402\n",
      "Epoch 21/50\n",
      "11412/11412 [==============================] - 1s 59us/step - loss: 0.3384\n",
      "Epoch 22/50\n",
      "11412/11412 [==============================] - 1s 57us/step - loss: 0.3367\n",
      "Epoch 23/50\n",
      "11412/11412 [==============================] - 1s 54us/step - loss: 0.3350\n",
      "Epoch 24/50\n",
      "11412/11412 [==============================] - 1s 52us/step - loss: 0.3334\n",
      "Epoch 25/50\n",
      "11412/11412 [==============================] - 1s 62us/step - loss: 0.3325\n",
      "Epoch 26/50\n",
      "11412/11412 [==============================] - 1s 49us/step - loss: 0.3308: 0s - loss: 0.3\n",
      "Epoch 27/50\n",
      "11412/11412 [==============================] - 1s 48us/step - loss: 0.3292\n",
      "Epoch 28/50\n",
      "11412/11412 [==============================] - 1s 49us/step - loss: 0.3279\n",
      "Epoch 29/50\n",
      "11412/11412 [==============================] - 0s 43us/step - loss: 0.3268\n",
      "Epoch 30/50\n",
      "11412/11412 [==============================] - 1s 60us/step - loss: 0.3256: 0s - loss: 0.32\n",
      "Epoch 31/50\n",
      "11412/11412 [==============================] - 1s 56us/step - loss: 0.3245\n",
      "Epoch 32/50\n",
      "11412/11412 [==============================] - 1s 78us/step - loss: 0.3235\n",
      "Epoch 33/50\n",
      "11412/11412 [==============================] - 1s 64us/step - loss: 0.3224\n",
      "Epoch 34/50\n",
      "11412/11412 [==============================] - 1s 50us/step - loss: 0.3213\n",
      "Epoch 35/50\n",
      "11412/11412 [==============================] - 1s 50us/step - loss: 0.3205\n",
      "Epoch 36/50\n",
      "11412/11412 [==============================] - 1s 54us/step - loss: 0.3198: 0s - loss: 0\n",
      "Epoch 37/50\n",
      "11412/11412 [==============================] - 1s 51us/step - loss: 0.3190\n",
      "Epoch 38/50\n",
      "11412/11412 [==============================] - 1s 48us/step - loss: 0.3182: 0s - loss: 0\n",
      "Epoch 39/50\n",
      "11412/11412 [==============================] - 1s 49us/step - loss: 0.3174\n",
      "Epoch 40/50\n",
      "11412/11412 [==============================] - 1s 45us/step - loss: 0.3171\n",
      "Epoch 41/50\n",
      "11412/11412 [==============================] - 1s 44us/step - loss: 0.3164\n",
      "Epoch 42/50\n",
      "11412/11412 [==============================] - 1s 46us/step - loss: 0.3158\n",
      "Epoch 43/50\n",
      "11412/11412 [==============================] - 1s 48us/step - loss: 0.3151\n",
      "Epoch 44/50\n",
      "11412/11412 [==============================] - 1s 49us/step - loss: 0.3150\n",
      "Epoch 45/50\n",
      "11412/11412 [==============================] - 1s 52us/step - loss: 0.3142\n",
      "Epoch 46/50\n",
      "11412/11412 [==============================] - 1s 52us/step - loss: 0.3142\n",
      "Epoch 47/50\n",
      "11412/11412 [==============================] - 1s 55us/step - loss: 0.3133\n",
      "Epoch 48/50\n",
      "11412/11412 [==============================] - 1s 51us/step - loss: 0.3131: 0s - loss: 0.3\n",
      "Epoch 49/50\n",
      "11412/11412 [==============================] - 1s 50us/step - loss: 0.3123: 0s - loss:\n",
      "Epoch 50/50\n",
      "11412/11412 [==============================] - 1s 51us/step - loss: 0.3117\n"
     ]
    },
    {
     "data": {
      "image/png": "[encoded data removed]",
      "text/plain": [
       "<Figure size 936x576 with 1 Axes>"
      ]
     },
     "metadata": {
      "needs_background": "light"
     },
     "output_type": "display_data"
    }
   ],
   "source": [
    "model_mlp.compile(loss=keras.losses.categorical_crossentropy, \n",
    "                  optimizer=optimizers.SGD(lr=0.001, momentum=0.9, nesterov=True))\n",
    "\n",
    "history_mlp = model_mlp.fit(x_train, y_train, epochs=50, batch_size=32, verbose=1)\n",
    "\n",
    "plot_history(history_mlp)"
   ]
  },
  {
   "cell_type": "code",
   "execution_count": 38,
   "metadata": {},
   "outputs": [
    {
     "name": "stdout",
     "output_type": "stream",
     "text": [
      "7608/7608 [==============================] - 0s 31us/step\n"
     ]
    },
    {
     "data": {
      "text/plain": [
       "0.3407757729135226"
      ]
     },
     "execution_count": 38,
     "metadata": {},
     "output_type": "execute_result"
    }
   ],
   "source": [
    "loss_and_metrics = model_mlp.evaluate(x_test, y_test)\n",
    "\n",
    "loss_and_metrics"
   ]
  },
  {
   "cell_type": "code",
   "execution_count": 41,
   "metadata": {},
   "outputs": [
    {
     "data": {
      "text/plain": [
       "array([0.85462671])"
      ]
     },
     "execution_count": 41,
     "metadata": {},
     "output_type": "execute_result"
    }
   ],
   "source": [
    "probs = model_mlp.predict(x_test)\n",
    "predictions = np.argmax(probs, axis=1)\n",
    "np.sum(predictions  == np.argmax(y_test, axis=1)) / predictions.shape"
   ]
  },
  {
   "cell_type": "code",
   "execution_count": 43,
   "metadata": {},
   "outputs": [
    {
     "name": "stdout",
     "output_type": "stream",
     "text": [
      "              precision    recall  f1-score   support\n",
      "\n",
      "           0       0.85      0.94      0.89      4889\n",
      "           1       0.86      0.71      0.78      2719\n",
      "\n",
      "    accuracy                           0.85      7608\n",
      "   macro avg       0.86      0.82      0.83      7608\n",
      "weighted avg       0.86      0.85      0.85      7608\n",
      "\n"
     ]
    }
   ],
   "source": [
    "report = classification_report(y_test.argmax(axis=1), predictions, labels=[0, 1])\n",
    "print(report)"
   ]
  },
  {
   "cell_type": "markdown",
   "metadata": {},
   "source": [
    "#### Add another layer and plot the loss"
   ]
  },
  {
   "cell_type": "code",
   "execution_count": 44,
   "metadata": {},
   "outputs": [
    {
     "name": "stdout",
     "output_type": "stream",
     "text": [
      "_________________________________________________________________\n",
      "Layer (type)                 Output Shape              Param #   \n",
      "=================================================================\n",
      "dense_10 (Dense)             (None, 32)                352       \n",
      "_________________________________________________________________\n",
      "dense_11 (Dense)             (None, 16)                528       \n",
      "_________________________________________________________________\n",
      "dense_12 (Dense)             (None, 5)                 85        \n",
      "_________________________________________________________________\n",
      "dense_13 (Dense)             (None, 2)                 12        \n",
      "=================================================================\n",
      "Total params: 977\n",
      "Trainable params: 977\n",
      "Non-trainable params: 0\n",
      "_________________________________________________________________\n"
     ]
    },
    {
     "data": {
      "text/plain": [
       "None"
      ]
     },
     "metadata": {},
     "output_type": "display_data"
    }
   ],
   "source": [
    "# Build your model\n",
    "model_mlp = Sequential()\n",
    "\n",
    "\n",
    "# hidden layers\n",
    "model_mlp.add(Dense(input_dim=10, units=32, activation='relu'))\n",
    "model_mlp.add(Dense(units=16, activation='relu'))\n",
    "model_mlp.add(Dense(units = 5, activation = 'relu'))\n",
    "\n",
    "# classifier layer\n",
    "model_mlp.add(Dense(units=2, activation='softmax'))\n",
    "\n",
    "\n",
    "display(model_mlp.summary())\n",
    "\n",
    "# Compile it\n",
    "\n",
    "\n",
    "# fit your model using 100 epochs\n"
   ]
  },
  {
   "cell_type": "code",
   "execution_count": 45,
   "metadata": {
    "scrolled": false
   },
   "outputs": [
    {
     "name": "stdout",
     "output_type": "stream",
     "text": [
      "Epoch 1/50\n",
      "11412/11412 [==============================] - 1s 90us/step - loss: 0.6040\n",
      "Epoch 2/50\n",
      "11412/11412 [==============================] - 1s 62us/step - loss: 0.4649\n",
      "Epoch 3/50\n",
      "11412/11412 [==============================] - 1s 52us/step - loss: 0.4141\n",
      "Epoch 4/50\n",
      "11412/11412 [==============================] - 1s 54us/step - loss: 0.3957\n",
      "Epoch 5/50\n",
      "11412/11412 [==============================] - 1s 53us/step - loss: 0.3815\n",
      "Epoch 6/50\n",
      "11412/11412 [==============================] - 1s 51us/step - loss: 0.3696\n",
      "Epoch 7/50\n",
      "11412/11412 [==============================] - 1s 53us/step - loss: 0.3601\n",
      "Epoch 8/50\n",
      "11412/11412 [==============================] - 1s 64us/step - loss: 0.3533\n",
      "Epoch 9/50\n",
      "11412/11412 [==============================] - 1s 60us/step - loss: 0.3470\n",
      "Epoch 10/50\n",
      "11412/11412 [==============================] - 1s 57us/step - loss: 0.3424\n",
      "Epoch 11/50\n",
      "11412/11412 [==============================] - 1s 55us/step - loss: 0.3373: 0s - loss: 0.\n",
      "Epoch 12/50\n",
      "11412/11412 [==============================] - 1s 52us/step - loss: 0.3334\n",
      "Epoch 13/50\n",
      "11412/11412 [==============================] - 1s 52us/step - loss: 0.3305\n",
      "Epoch 14/50\n",
      "11412/11412 [==============================] - 1s 53us/step - loss: 0.3269: 0s - loss: 0\n",
      "Epoch 15/50\n",
      "11412/11412 [==============================] - 1s 52us/step - loss: 0.3242\n",
      "Epoch 16/50\n",
      "11412/11412 [==============================] - 1s 62us/step - loss: 0.3217\n",
      "Epoch 17/50\n",
      "11412/11412 [==============================] - 1s 56us/step - loss: 0.3189\n",
      "Epoch 18/50\n",
      "11412/11412 [==============================] - 1s 55us/step - loss: 0.3177\n",
      "Epoch 19/50\n",
      "11412/11412 [==============================] - 1s 63us/step - loss: 0.3168\n",
      "Epoch 20/50\n",
      "11412/11412 [==============================] - 1s 61us/step - loss: 0.3150\n",
      "Epoch 21/50\n",
      "11412/11412 [==============================] - 1s 57us/step - loss: 0.3135: 0s - loss: 0.325 - ETA: 0s - loss:\n",
      "Epoch 22/50\n",
      "11412/11412 [==============================] - 1s 58us/step - loss: 0.3124\n",
      "Epoch 23/50\n",
      "11412/11412 [==============================] - 1s 55us/step - loss: 0.3112\n",
      "Epoch 24/50\n",
      "11412/11412 [==============================] - 1s 56us/step - loss: 0.3106: 0s - loss: 0.312\n",
      "Epoch 25/50\n",
      "11412/11412 [==============================] - 1s 52us/step - loss: 0.3099\n",
      "Epoch 26/50\n",
      "11412/11412 [==============================] - 1s 61us/step - loss: 0.3092\n",
      "Epoch 27/50\n",
      "11412/11412 [==============================] - 1s 58us/step - loss: 0.3083\n",
      "Epoch 28/50\n",
      "11412/11412 [==============================] - 1s 66us/step - loss: 0.3072\n",
      "Epoch 29/50\n",
      "11412/11412 [==============================] - 1s 61us/step - loss: 0.3067\n",
      "Epoch 30/50\n",
      "11412/11412 [==============================] - 1s 59us/step - loss: 0.3063\n",
      "Epoch 31/50\n",
      "11412/11412 [==============================] - 1s 58us/step - loss: 0.3052\n",
      "Epoch 32/50\n",
      "11412/11412 [==============================] - 1s 52us/step - loss: 0.3050: 0s - loss:  - ETA: 0s - loss: 0.3\n",
      "Epoch 33/50\n",
      "11412/11412 [==============================] - 1s 57us/step - loss: 0.3041\n",
      "Epoch 34/50\n",
      "11412/11412 [==============================] - 1s 64us/step - loss: 0.3034\n",
      "Epoch 35/50\n",
      "11412/11412 [==============================] - 1s 57us/step - loss: 0.3030\n",
      "Epoch 36/50\n",
      "11412/11412 [==============================] - 1s 56us/step - loss: 0.3016: 0s - l\n",
      "Epoch 37/50\n",
      "11412/11412 [==============================] - 1s 48us/step - loss: 0.3014: 0s - loss: \n",
      "Epoch 38/50\n",
      "11412/11412 [==============================] - 1s 55us/step - loss: 0.3005: 0s - loss: 0.317 - ETA: 0s - lo\n",
      "Epoch 39/50\n",
      "11412/11412 [==============================] - 1s 53us/step - loss: 0.3013\n",
      "Epoch 40/50\n",
      "11412/11412 [==============================] - 1s 55us/step - loss: 0.3001: 0s - loss: 0.2\n",
      "Epoch 41/50\n",
      "11412/11412 [==============================] - 1s 48us/step - loss: 0.3002\n",
      "Epoch 42/50\n",
      "11412/11412 [==============================] - 1s 59us/step - loss: 0.2999\n",
      "Epoch 43/50\n",
      "11412/11412 [==============================] - 1s 57us/step - loss: 0.2984\n",
      "Epoch 44/50\n",
      "11412/11412 [==============================] - 1s 56us/step - loss: 0.2993\n",
      "Epoch 45/50\n",
      "11412/11412 [==============================] - 1s 56us/step - loss: 0.2980\n",
      "Epoch 46/50\n",
      "11412/11412 [==============================] - 1s 61us/step - loss: 0.2973\n",
      "Epoch 47/50\n",
      "11412/11412 [==============================] - 1s 58us/step - loss: 0.2972\n",
      "Epoch 48/50\n",
      "11412/11412 [==============================] - 1s 53us/step - loss: 0.2977: 0s - loss: 0.29\n",
      "Epoch 49/50\n",
      "11412/11412 [==============================] - 1s 56us/step - loss: 0.2960\n",
      "Epoch 50/50\n",
      "11412/11412 [==============================] - 1s 56us/step - loss: 0.2956: 0s - loss\n"
     ]
    },
    {
     "data": {
      "image/png": "[encoded data removed]",
      "text/plain": [
       "<Figure size 936x576 with 1 Axes>"
      ]
     },
     "metadata": {
      "needs_background": "light"
     },
     "output_type": "display_data"
    }
   ],
   "source": [
    "model_mlp.compile(loss=keras.losses.categorical_crossentropy, \n",
    "                  optimizer=optimizers.SGD(lr=0.001, momentum=0.9, nesterov=True))\n",
    "\n",
    "history_mlp = model_mlp.fit(x_train, y_train, epochs=50, batch_size=32, verbose=1)\n",
    "\n",
    "plot_history(history_mlp)"
   ]
  },
  {
   "cell_type": "code",
   "execution_count": 49,
   "metadata": {},
   "outputs": [
    {
     "name": "stdout",
     "output_type": "stream",
     "text": [
      "7608/7608 [==============================] - 0s 22us/step\n"
     ]
    },
    {
     "data": {
      "text/plain": [
       "0.32985218610422595"
      ]
     },
     "execution_count": 49,
     "metadata": {},
     "output_type": "execute_result"
    }
   ],
   "source": [
    "# Evaluate your model\n",
    "model_mlp.evaluate(x_test, y_test)"
   ]
  },
  {
   "cell_type": "code",
   "execution_count": 50,
   "metadata": {},
   "outputs": [
    {
     "data": {
      "image/png": "[encoded data removed]",
      "text/plain": [
       "<Figure size 936x576 with 1 Axes>"
      ]
     },
     "metadata": {
      "needs_background": "light"
     },
     "output_type": "display_data"
    }
   ],
   "source": [
    "# Plot your loss\n",
    "plot_history(history_mlp)"
   ]
  },
  {
   "cell_type": "code",
   "execution_count": 52,
   "metadata": {},
   "outputs": [
    {
     "name": "stdout",
     "output_type": "stream",
     "text": [
      "_________________________________________________________________\n",
      "Layer (type)                 Output Shape              Param #   \n",
      "=================================================================\n",
      "dense_17 (Dense)             (None, 32)                352       \n",
      "_________________________________________________________________\n",
      "dense_18 (Dense)             (None, 16)                528       \n",
      "_________________________________________________________________\n",
      "dense_19 (Dense)             (None, 2)                 34        \n",
      "=================================================================\n",
      "Total params: 914\n",
      "Trainable params: 914\n",
      "Non-trainable params: 0\n",
      "_________________________________________________________________\n"
     ]
    }
   ],
   "source": [
    "### Let's make it better\n",
    "### Let's build a new model with 2 layers but a different optimizer\n",
    "### User ADAM optimization\n",
    "model_mlp = Sequential()\n",
    "\n",
    "\n",
    "# hidden layers\n",
    "model_mlp.add(Dense(input_dim=10, units=32, activation='relu'))\n",
    "model_mlp.add(Dense(units=16, activation='relu'))\n",
    "\n",
    "\n",
    "# classifier layer\n",
    "model_mlp.add(Dense(units=2, activation='softmax'))\n",
    "\n",
    "\n",
    "model_mlp.summary()"
   ]
  },
  {
   "cell_type": "code",
   "execution_count": 53,
   "metadata": {},
   "outputs": [],
   "source": [
    "model_mlp.compile(loss='categorical_crossentropy', optimizer=optimizers.Adam())"
   ]
  },
  {
   "cell_type": "code",
   "execution_count": 54,
   "metadata": {},
   "outputs": [
    {
     "name": "stdout",
     "output_type": "stream",
     "text": [
      "Epoch 1/50\n",
      "11412/11412 [==============================] - 1s 86us/step - loss: 0.4761\n",
      "Epoch 2/50\n",
      "11412/11412 [==============================] - 0s 31us/step - loss: 0.3699\n",
      "Epoch 3/50\n",
      "11412/11412 [==============================] - 0s 36us/step - loss: 0.3468\n",
      "Epoch 4/50\n",
      "11412/11412 [==============================] - 0s 36us/step - loss: 0.3368\n",
      "Epoch 5/50\n",
      "11412/11412 [==============================] - 0s 33us/step - loss: 0.3305\n",
      "Epoch 6/50\n",
      "11412/11412 [==============================] - 0s 35us/step - loss: 0.3259\n",
      "Epoch 7/50\n",
      "11412/11412 [==============================] - 0s 37us/step - loss: 0.3218: 0s - loss: 0.322\n",
      "Epoch 8/50\n",
      "11412/11412 [==============================] - 0s 42us/step - loss: 0.3192\n",
      "Epoch 9/50\n",
      "11412/11412 [==============================] - 0s 38us/step - loss: 0.3167\n",
      "Epoch 10/50\n",
      "11412/11412 [==============================] - 0s 38us/step - loss: 0.3145\n",
      "Epoch 11/50\n",
      "11412/11412 [==============================] - 0s 37us/step - loss: 0.3117\n",
      "Epoch 12/50\n",
      "11412/11412 [==============================] - 0s 36us/step - loss: 0.3099\n",
      "Epoch 13/50\n",
      "11412/11412 [==============================] - 0s 39us/step - loss: 0.3088\n",
      "Epoch 14/50\n",
      "11412/11412 [==============================] - 0s 33us/step - loss: 0.3065\n",
      "Epoch 15/50\n",
      "11412/11412 [==============================] - 0s 34us/step - loss: 0.3059\n",
      "Epoch 16/50\n",
      "11412/11412 [==============================] - 0s 30us/step - loss: 0.3047\n",
      "Epoch 17/50\n",
      "11412/11412 [==============================] - 0s 36us/step - loss: 0.3034\n",
      "Epoch 18/50\n",
      "11412/11412 [==============================] - 0s 36us/step - loss: 0.3017\n",
      "Epoch 19/50\n",
      "11412/11412 [==============================] - 0s 32us/step - loss: 0.3009\n",
      "Epoch 20/50\n",
      "11412/11412 [==============================] - 0s 35us/step - loss: 0.3013\n",
      "Epoch 21/50\n",
      "11412/11412 [==============================] - 0s 38us/step - loss: 0.3000\n",
      "Epoch 22/50\n",
      "11412/11412 [==============================] - 0s 29us/step - loss: 0.2988: 0s - loss: 0.30\n",
      "Epoch 23/50\n",
      "11412/11412 [==============================] - 0s 26us/step - loss: 0.2974\n",
      "Epoch 24/50\n",
      "11412/11412 [==============================] - 0s 32us/step - loss: 0.2962\n",
      "Epoch 25/50\n",
      "11412/11412 [==============================] - 0s 33us/step - loss: 0.2964\n",
      "Epoch 26/50\n",
      "11412/11412 [==============================] - 0s 31us/step - loss: 0.2951\n",
      "Epoch 27/50\n",
      "11412/11412 [==============================] - 0s 31us/step - loss: 0.2949\n",
      "Epoch 28/50\n",
      "11412/11412 [==============================] - 0s 32us/step - loss: 0.2944\n",
      "Epoch 29/50\n",
      "11412/11412 [==============================] - 0s 36us/step - loss: 0.2934\n",
      "Epoch 30/50\n",
      "11412/11412 [==============================] - 0s 30us/step - loss: 0.2918\n",
      "Epoch 31/50\n",
      "11412/11412 [==============================] - 0s 37us/step - loss: 0.2910\n",
      "Epoch 32/50\n",
      "11412/11412 [==============================] - 0s 37us/step - loss: 0.2906\n",
      "Epoch 33/50\n",
      "11412/11412 [==============================] - 0s 33us/step - loss: 0.2895: 0s - loss: 0.28\n",
      "Epoch 34/50\n",
      "11412/11412 [==============================] - 0s 36us/step - loss: 0.2891\n",
      "Epoch 35/50\n",
      "11412/11412 [==============================] - 0s 33us/step - loss: 0.2879\n",
      "Epoch 36/50\n",
      "11412/11412 [==============================] - 0s 33us/step - loss: 0.2878\n",
      "Epoch 37/50\n",
      "11412/11412 [==============================] - 0s 35us/step - loss: 0.2881\n",
      "Epoch 38/50\n",
      "11412/11412 [==============================] - 0s 35us/step - loss: 0.2866\n",
      "Epoch 39/50\n",
      "11412/11412 [==============================] - 0s 32us/step - loss: 0.2865\n",
      "Epoch 40/50\n",
      "11412/11412 [==============================] - 0s 33us/step - loss: 0.2861\n",
      "Epoch 41/50\n",
      "11412/11412 [==============================] - 0s 31us/step - loss: 0.2849\n",
      "Epoch 42/50\n",
      "11412/11412 [==============================] - 0s 33us/step - loss: 0.2850\n",
      "Epoch 43/50\n",
      "11412/11412 [==============================] - 0s 36us/step - loss: 0.2846\n",
      "Epoch 44/50\n",
      "11412/11412 [==============================] - 0s 32us/step - loss: 0.2829\n",
      "Epoch 45/50\n",
      "11412/11412 [==============================] - 0s 34us/step - loss: 0.2831\n",
      "Epoch 46/50\n",
      "11412/11412 [==============================] - 0s 32us/step - loss: 0.2828\n",
      "Epoch 47/50\n",
      "11412/11412 [==============================] - 0s 39us/step - loss: 0.2820\n",
      "Epoch 48/50\n",
      "11412/11412 [==============================] - 0s 34us/step - loss: 0.2815\n",
      "Epoch 49/50\n",
      "11412/11412 [==============================] - 0s 32us/step - loss: 0.2822\n",
      "Epoch 50/50\n",
      "11412/11412 [==============================] - 0s 30us/step - loss: 0.2812\n"
     ]
    }
   ],
   "source": [
    "history_mlp = model_mlp.fit(x_train, y_train, batch_size=64, epochs=50)"
   ]
  },
  {
   "cell_type": "code",
   "execution_count": 55,
   "metadata": {},
   "outputs": [
    {
     "data": {
      "image/png": "[encoded data removed]",
      "text/plain": [
       "<Figure size 936x576 with 1 Axes>"
      ]
     },
     "metadata": {
      "needs_background": "light"
     },
     "output_type": "display_data"
    }
   ],
   "source": [
    "plot_history(history_mlp)"
   ]
  },
  {
   "cell_type": "code",
   "execution_count": 56,
   "metadata": {},
   "outputs": [
    {
     "name": "stdout",
     "output_type": "stream",
     "text": [
      "7608/7608 [==============================] - 0s 35us/step\n"
     ]
    },
    {
     "data": {
      "text/plain": [
       "0.3239707359192123"
      ]
     },
     "execution_count": 56,
     "metadata": {},
     "output_type": "execute_result"
    }
   ],
   "source": [
    "model_mlp.evaluate(x_test, y_test)"
   ]
  },
  {
   "cell_type": "code",
   "execution_count": 57,
   "metadata": {},
   "outputs": [
    {
     "data": {
      "text/plain": [
       "array([0.86671924])"
      ]
     },
     "execution_count": 57,
     "metadata": {},
     "output_type": "execute_result"
    }
   ],
   "source": [
    "probs = model_mlp.predict(x_test)\n",
    "predictions = np.argmax(probs, axis=1)\n",
    "np.sum(predictions  == np.argmax(y_test, axis=1)) / predictions.shape"
   ]
  },
  {
   "cell_type": "code",
   "execution_count": 58,
   "metadata": {},
   "outputs": [
    {
     "name": "stdout",
     "output_type": "stream",
     "text": [
      "              precision    recall  f1-score   support\n",
      "\n",
      "           0       0.86      0.95      0.90      4889\n",
      "           1       0.89      0.72      0.79      2719\n",
      "\n",
      "    accuracy                           0.87      7608\n",
      "   macro avg       0.87      0.83      0.85      7608\n",
      "weighted avg       0.87      0.87      0.86      7608\n",
      "\n"
     ]
    }
   ],
   "source": [
    "print(classification_report(y_test.argmax(axis=1), predictions))"
   ]
  },
  {
   "cell_type": "markdown",
   "metadata": {},
   "source": [
    "### What did we learn?\n",
    "- Use ADAM optimization\n",
    "- Best practices for Deep Learning\n",
    "    - ADAM/ReLu/Softmax\n",
    "    - Onehotencode Labels"
   ]
  },
  {
   "cell_type": "code",
   "execution_count": null,
   "metadata": {},
   "outputs": [],
   "source": []
  }
 ],
 "metadata": {
  "kernelspec": {
   "display_name": "Python [conda env:flatiron-env] *",
   "language": "python",
   "name": "conda-env-flatiron-env-py"
  },
  "language_info": {
   "codemirror_mode": {
    "name": "ipython",
    "version": 3
   },
   "file_extension": ".py",
   "mimetype": "text/x-python",
   "name": "python",
   "nbconvert_exporter": "python",
   "pygments_lexer": "ipython3",
   "version": "3.6.0"
  },
  "toc": {
   "base_numbering": 1,
   "nav_menu": {},
   "number_sections": true,
   "sideBar": true,
   "skip_h1_title": false,
   "title_cell": "Table of Contents",
   "title_sidebar": "Contents",
   "toc_cell": false,
   "toc_position": {},
   "toc_section_display": true,
   "toc_window_display": false
  },
  "varInspector": {
   "cols": {
    "lenName": 16,
    "lenType": 16,
    "lenVar": 40
   },
   "kernels_config": {
    "python": {
     "delete_cmd_postfix": "",
     "delete_cmd_prefix": "del ",
     "library": "var_list.py",
     "varRefreshCmd": "print(var_dic_list())"
    },
    "r": {
     "delete_cmd_postfix": ") ",
     "delete_cmd_prefix": "rm(",
     "library": "var_list.r",
     "varRefreshCmd": "cat(var_dic_list()) "
    }
   },
   "types_to_exclude": [
    "module",
    "function",
    "builtin_function_or_method",
    "instance",
    "_Feature"
   ],
   "window_display": false
  }
 },
 "nbformat": 4,
 "nbformat_minor": 2
}
