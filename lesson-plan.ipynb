{
 "cells": [
  {
   "cell_type": "markdown",
   "metadata": {},
   "source": [
    "Most of this code can be found at <a href='https://keras.io'>keras.io</a>"
   ]
  },
  {
   "cell_type": "markdown",
   "metadata": {},
   "source": [
    "## Questions\n",
    "- What is a tensor? kind of everything...\n",
    "- Are there other ways of building neural networks? \n",
    "    - yes. Keras, PyTorch, TensorFlow, Theano\n",
    "- What is gradient descent solving for in a neural network?\n",
    "    - Perceptron? - weights\n",
    "- Gradient Descent Methods\n",
    "    - Stochastic Gradient Descent\n",
    "        - Tries a lot of starting points and picks the set of parameters that give the lowest error\n",
    "    - ADAM (Adaptive Momentum)\n",
    "        - [blog here](https://blog.paperspace.com/intro-to-optimization-momentum-rmsprop-adam/)\n",
    "\n",
    "- RNNs -> optimize hidden state\n",
    "- LSTMs -> optimize hidden state and a cell state\n",
    "- GRUs -> optimize hidden state\n",
    "- CNNs -> optimize filters\n",
    "\n",
    "## Objectives \n",
    "YWBAT \n",
    "- build a neural network using keras\n",
    "- compare models based on their depth\n",
    "- *choose the best optimizer for a model*"
   ]
  },
  {
   "cell_type": "markdown",
   "metadata": {},
   "source": [
    "### Why do we use NNs?\n",
    "- identify combinations of features and learn combinations of features\n",
    "- reduces the need for domain expertise\n",
    "    - unstructured data is handled better\n",
    "    - ambiguous data"
   ]
  },
  {
   "cell_type": "markdown",
   "metadata": {},
   "source": [
    "### Outline\n",
    "* Import data\n",
    "* Build single layer model\n",
    "* Build 2 layer model\n",
    "* Students build their own deep learning model\n",
    "* evaluate models, tune optimizers"
   ]
  },
  {
   "cell_type": "markdown",
   "metadata": {},
   "source": [
    "# Useful Imports"
   ]
  },
  {
   "cell_type": "code",
   "execution_count": 16,
   "metadata": {
    "ExecuteTime": {
     "end_time": "2019-06-18T16:18:12.782645Z",
     "start_time": "2019-06-18T16:18:11.185732Z"
    }
   },
   "outputs": [],
   "source": [
    "import keras\n",
    "import numpy as np\n",
    "import pandas as pd\n",
    "\n",
    "from sklearn.metrics import classification_report\n",
    "\n",
    "import matplotlib.pyplot as plt"
   ]
  },
  {
   "cell_type": "code",
   "execution_count": 17,
   "metadata": {
    "ExecuteTime": {
     "end_time": "2019-06-18T16:18:13.087187Z",
     "start_time": "2019-06-18T16:18:13.082385Z"
    }
   },
   "outputs": [],
   "source": [
    "from keras import models\n",
    "from keras import layers\n",
    "from keras import optimizers"
   ]
  },
  {
   "cell_type": "markdown",
   "metadata": {},
   "source": [
    "# Obtaining Dataset & Train-Test Split"
   ]
  },
  {
   "cell_type": "markdown",
   "metadata": {},
   "source": [
    "Nothing different from training other models"
   ]
  },
  {
   "cell_type": "code",
   "execution_count": 22,
   "metadata": {
    "ExecuteTime": {
     "end_time": "2019-06-18T16:18:13.048684Z",
     "start_time": "2019-06-18T16:18:12.784941Z"
    }
   },
   "outputs": [],
   "source": [
    "from sklearn.datasets import load_iris\n",
    "from sklearn.model_selection import train_test_split\n",
    "from sklearn.preprocessing import OneHotEncoder, StandardScaler\n",
    "\n",
    "iris = load_iris()\n",
    "x = iris['data']\n",
    "y = iris['target']\n",
    "names = iris['target_names']\n",
    "feature_names = iris['feature_names']\n",
    "\n",
    "# One hot encoding\n",
    "enc = OneHotEncoder()\n",
    "y = enc.fit_transform(y[:, np.newaxis]).toarray()\n",
    "\n",
    "# Scale data to have mean 0 and variance 1 \n",
    "# which is importance for convergence of the neural network\n",
    "scaler = StandardScaler()\n",
    "x_scaled = scaler.fit_transform(x)\n",
    "\n",
    "# Split the data set into training and testing\n",
    "x_train, x_test, y_train, y_test = train_test_split(x_scaled, y, test_size=0.4, random_state=2)"
   ]
  },
  {
   "cell_type": "markdown",
   "metadata": {},
   "source": [
    "# SKIP\n",
    "--------"
   ]
  },
  {
   "cell_type": "code",
   "execution_count": 5,
   "metadata": {},
   "outputs": [
    {
     "data": {
      "text/plain": [
       "'\\nAttribute Information:\\n\\nfLength: continuous # major axis of ellipse [mm]\\nfWidth: continuous # minor axis of ellipse [mm]\\nfSize: continuous # 10-log of sum of content of all pixels [in #phot]\\nfConc: continuous # ratio of sum of two highest pixels over fSize [ratio]\\nfConc1: continuous # ratio of highest pixel over fSize [ratio]\\nfAsym: continuous # distance from highest pixel to center, projected onto major axis [mm]\\nfM3Long: continuous # 3rd root of third moment along major axis [mm]\\nfM3Trans: continuous # 3rd root of third moment along minor axis [mm]\\nfAlpha: continuous # angle of major axis with vector to origin [deg]\\nfDist: continuous # distance from origin to center of ellipse [mm]\\nclass: g,h # gamma (signal), hadron (background)\\n'"
      ]
     },
     "execution_count": 5,
     "metadata": {},
     "output_type": "execute_result"
    }
   ],
   "source": [
    "\"\"\"\n",
    "Attribute Information:\n",
    "\n",
    "fLength: continuous # major axis of ellipse [mm]\n",
    "fWidth: continuous # minor axis of ellipse [mm]\n",
    "fSize: continuous # 10-log of sum of content of all pixels [in #phot]\n",
    "fConc: continuous # ratio of sum of two highest pixels over fSize [ratio]\n",
    "fConc1: continuous # ratio of highest pixel over fSize [ratio]\n",
    "fAsym: continuous # distance from highest pixel to center, projected onto major axis [mm]\n",
    "fM3Long: continuous # 3rd root of third moment along major axis [mm]\n",
    "fM3Trans: continuous # 3rd root of third moment along minor axis [mm]\n",
    "fAlpha: continuous # angle of major axis with vector to origin [deg]\n",
    "fDist: continuous # distance from origin to center of ellipse [mm]\n",
    "class: g,h # gamma (signal), hadron (background)\n",
    "\"\"\""
   ]
  },
  {
   "cell_type": "code",
   "execution_count": 6,
   "metadata": {},
   "outputs": [
    {
     "data": {
      "text/html": [
       "<div>\n",
       "<style scoped>\n",
       "    .dataframe tbody tr th:only-of-type {\n",
       "        vertical-align: middle;\n",
       "    }\n",
       "\n",
       "    .dataframe tbody tr th {\n",
       "        vertical-align: top;\n",
       "    }\n",
       "\n",
       "    .dataframe thead th {\n",
       "        text-align: right;\n",
       "    }\n",
       "</style>\n",
       "<table border=\"1\" class=\"dataframe\">\n",
       "  <thead>\n",
       "    <tr style=\"text-align: right;\">\n",
       "      <th></th>\n",
       "      <th>ID</th>\n",
       "      <th>fLength:</th>\n",
       "      <th>fWidth:</th>\n",
       "      <th>fSize:</th>\n",
       "      <th>fConc:</th>\n",
       "      <th>fConc1:</th>\n",
       "      <th>fAsym:</th>\n",
       "      <th>fM3Long:</th>\n",
       "      <th>fM3Trans:</th>\n",
       "      <th>fAlpha:</th>\n",
       "      <th>fDist:</th>\n",
       "      <th>class:</th>\n",
       "    </tr>\n",
       "  </thead>\n",
       "  <tbody>\n",
       "    <tr>\n",
       "      <td>0</td>\n",
       "      <td>1</td>\n",
       "      <td>28.7967</td>\n",
       "      <td>16.0021</td>\n",
       "      <td>2.6449</td>\n",
       "      <td>0.3918</td>\n",
       "      <td>0.1982</td>\n",
       "      <td>27.7004</td>\n",
       "      <td>22.0110</td>\n",
       "      <td>-8.2027</td>\n",
       "      <td>40.0920</td>\n",
       "      <td>81.8828</td>\n",
       "      <td>g</td>\n",
       "    </tr>\n",
       "    <tr>\n",
       "      <td>1</td>\n",
       "      <td>2</td>\n",
       "      <td>31.6036</td>\n",
       "      <td>11.7235</td>\n",
       "      <td>2.5185</td>\n",
       "      <td>0.5303</td>\n",
       "      <td>0.3773</td>\n",
       "      <td>26.2722</td>\n",
       "      <td>23.8238</td>\n",
       "      <td>-9.9574</td>\n",
       "      <td>6.3609</td>\n",
       "      <td>205.2610</td>\n",
       "      <td>g</td>\n",
       "    </tr>\n",
       "  </tbody>\n",
       "</table>\n",
       "</div>"
      ],
      "text/plain": [
       "   ID  fLength:  fWidth:  fSize:  fConc:  fConc1:   fAsym:  fM3Long:  \\\n",
       "0   1   28.7967  16.0021  2.6449  0.3918   0.1982  27.7004   22.0110   \n",
       "1   2   31.6036  11.7235  2.5185  0.5303   0.3773  26.2722   23.8238   \n",
       "\n",
       "   fM3Trans:  fAlpha:    fDist: class:  \n",
       "0    -8.2027  40.0920   81.8828      g  \n",
       "1    -9.9574   6.3609  205.2610      g  "
      ]
     },
     "metadata": {},
     "output_type": "display_data"
    },
    {
     "data": {
      "text/html": [
       "<div>\n",
       "<style scoped>\n",
       "    .dataframe tbody tr th:only-of-type {\n",
       "        vertical-align: middle;\n",
       "    }\n",
       "\n",
       "    .dataframe tbody tr th {\n",
       "        vertical-align: top;\n",
       "    }\n",
       "\n",
       "    .dataframe thead th {\n",
       "        text-align: right;\n",
       "    }\n",
       "</style>\n",
       "<table border=\"1\" class=\"dataframe\">\n",
       "  <thead>\n",
       "    <tr style=\"text-align: right;\">\n",
       "      <th></th>\n",
       "      <th>fLength:</th>\n",
       "      <th>fWidth:</th>\n",
       "      <th>fSize:</th>\n",
       "      <th>fConc:</th>\n",
       "      <th>fConc1:</th>\n",
       "      <th>fAsym:</th>\n",
       "      <th>fM3Long:</th>\n",
       "      <th>fM3Trans:</th>\n",
       "      <th>fAlpha:</th>\n",
       "      <th>fDist:</th>\n",
       "      <th>class:</th>\n",
       "    </tr>\n",
       "  </thead>\n",
       "  <tbody>\n",
       "    <tr>\n",
       "      <td>0</td>\n",
       "      <td>28.7967</td>\n",
       "      <td>16.0021</td>\n",
       "      <td>2.6449</td>\n",
       "      <td>0.3918</td>\n",
       "      <td>0.1982</td>\n",
       "      <td>27.7004</td>\n",
       "      <td>22.0110</td>\n",
       "      <td>-8.2027</td>\n",
       "      <td>40.0920</td>\n",
       "      <td>81.8828</td>\n",
       "      <td>g</td>\n",
       "    </tr>\n",
       "    <tr>\n",
       "      <td>1</td>\n",
       "      <td>31.6036</td>\n",
       "      <td>11.7235</td>\n",
       "      <td>2.5185</td>\n",
       "      <td>0.5303</td>\n",
       "      <td>0.3773</td>\n",
       "      <td>26.2722</td>\n",
       "      <td>23.8238</td>\n",
       "      <td>-9.9574</td>\n",
       "      <td>6.3609</td>\n",
       "      <td>205.2610</td>\n",
       "      <td>g</td>\n",
       "    </tr>\n",
       "  </tbody>\n",
       "</table>\n",
       "</div>"
      ],
      "text/plain": [
       "   fLength:  fWidth:  fSize:  fConc:  fConc1:   fAsym:  fM3Long:  fM3Trans:  \\\n",
       "0   28.7967  16.0021  2.6449  0.3918   0.1982  27.7004   22.0110    -8.2027   \n",
       "1   31.6036  11.7235  2.5185  0.5303   0.3773  26.2722   23.8238    -9.9574   \n",
       "\n",
       "   fAlpha:    fDist: class:  \n",
       "0  40.0920   81.8828      g  \n",
       "1   6.3609  205.2610      g  "
      ]
     },
     "execution_count": 6,
     "metadata": {},
     "output_type": "execute_result"
    }
   ],
   "source": [
    "### Let's load in some custom data\n",
    "df = pd.read_csv(\"MagicTelescope.csv\")\n",
    "display(df.head(2))\n",
    "df.drop(\"ID\", axis=1, inplace=True)\n",
    "df.head(2)"
   ]
  },
  {
   "cell_type": "code",
   "execution_count": 7,
   "metadata": {},
   "outputs": [
    {
     "data": {
      "text/plain": [
       "(19020,)"
      ]
     },
     "execution_count": 7,
     "metadata": {},
     "output_type": "execute_result"
    }
   ],
   "source": [
    "X, y = df.drop('class:', axis=1), df[\"class:\"]\n",
    "y.shape"
   ]
  },
  {
   "cell_type": "code",
   "execution_count": null,
   "metadata": {},
   "outputs": [],
   "source": [
    "# one-hot encode your target in order to use softmax activation\n",
    "# softmax activation is better under optimization\n",
    "enc = OneHotEncoder()\n",
    "y = enc.fit_transform(y[:, np.newaxis]).toarray()\n",
    "y.shape, y"
   ]
  },
  {
   "cell_type": "code",
   "execution_count": 9,
   "metadata": {},
   "outputs": [],
   "source": [
    "scaler = StandardScaler()\n",
    "x_scaled = scaler.fit_transform(X)\n",
    "\n",
    "# Split the data set into training and testing\n",
    "x_train, x_test, y_train, y_test = train_test_split(x_scaled, y, test_size=0.4, random_state=2)"
   ]
  },
  {
   "cell_type": "markdown",
   "metadata": {},
   "source": [
    "### What did we learn?\n",
    "- use Relu on dense layers that aren't going to the output\n",
    "- onehotencode target (even if binary) because\n",
    "    - because we can then use `softmax` activation\n",
    "    - `softmax` activation performs much better than `sigmoid` under gradient descent"
   ]
  },
  {
   "cell_type": "markdown",
   "metadata": {},
   "source": [
    "-------"
   ]
  },
  {
   "cell_type": "code",
   "execution_count": null,
   "metadata": {},
   "outputs": [],
   "source": []
  },
  {
   "cell_type": "code",
   "execution_count": null,
   "metadata": {},
   "outputs": [],
   "source": []
  },
  {
   "cell_type": "code",
   "execution_count": null,
   "metadata": {},
   "outputs": [],
   "source": []
  },
  {
   "cell_type": "code",
   "execution_count": 23,
   "metadata": {},
   "outputs": [
    {
     "data": {
      "text/plain": [
       "((90, 4), (60, 4), (90, 3), (60, 3))"
      ]
     },
     "execution_count": 23,
     "metadata": {},
     "output_type": "execute_result"
    }
   ],
   "source": [
    "x_train.shape, x_test.shape, y_train.shape, y_test.shape "
   ]
  },
  {
   "cell_type": "markdown",
   "metadata": {},
   "source": [
    "# Creating a Neural Network"
   ]
  },
  {
   "cell_type": "markdown",
   "metadata": {},
   "source": [
    "`Sequential` is referring to the neural networks we've observed. There are other neural network models that will go beyond this class."
   ]
  },
  {
   "cell_type": "code",
   "execution_count": 24,
   "metadata": {
    "ExecuteTime": {
     "end_time": "2019-06-18T16:18:13.126356Z",
     "start_time": "2019-06-18T16:18:13.090188Z"
    }
   },
   "outputs": [],
   "source": [
    "from keras.models import Sequential # this just means we go through our network in order of our layers\n",
    "\n",
    "model = Sequential()"
   ]
  },
  {
   "cell_type": "markdown",
   "metadata": {},
   "source": [
    "The actual network; we can decide how many layers & nodes for each layer here as well as other hyperparameters like the activation function."
   ]
  },
  {
   "cell_type": "code",
   "execution_count": 29,
   "metadata": {
    "ExecuteTime": {
     "end_time": "2019-06-18T19:28:01.843032Z",
     "start_time": "2019-06-18T19:27:59.181321Z"
    }
   },
   "outputs": [],
   "source": [
    "from keras.layers import Dense\n",
    "\n",
    "model = Sequential()\n",
    "\n",
    "# first hidden layer use input_dim=4 for iris dataset\n",
    "model.add(Dense(units=6, activation='relu', input_dim=4, use_bias=True))\n",
    "\n",
    "# output layer\n",
    "model.add(Dense(units=3, activation='softmax'))"
   ]
  },
  {
   "cell_type": "code",
   "execution_count": 30,
   "metadata": {},
   "outputs": [
    {
     "name": "stdout",
     "output_type": "stream",
     "text": [
      "_________________________________________________________________\n",
      "Layer (type)                 Output Shape              Param #   \n",
      "=================================================================\n",
      "dense_7 (Dense)              (None, 6)                 30        \n",
      "_________________________________________________________________\n",
      "dense_8 (Dense)              (None, 3)                 21        \n",
      "=================================================================\n",
      "Total params: 51\n",
      "Trainable params: 51\n",
      "Non-trainable params: 0\n",
      "_________________________________________________________________\n"
     ]
    }
   ],
   "source": [
    "model.summary()\n",
    "\n",
    "# if bias:\n",
    "#     param = (input+1)*units = edges -> number of weights"
   ]
  },
  {
   "cell_type": "markdown",
   "metadata": {},
   "source": [
    "Compile the model to a form that the computer can more easily work with"
   ]
  },
  {
   "cell_type": "code",
   "execution_count": 31,
   "metadata": {
    "ExecuteTime": {
     "end_time": "2019-06-18T16:18:13.223984Z",
     "start_time": "2019-06-18T16:18:13.187420Z"
    }
   },
   "outputs": [],
   "source": [
    "# stochastic gradient descent with momentum as our optimizer\n",
    "model_optimizer = optimizers.SGD(lr=0.001, momentum=0.9, nesterov=True)\n",
    "\n",
    "model.compile(loss=keras.losses.categorical_crossentropy, \n",
    "              optimizer=model_optimizer)"
   ]
  },
  {
   "cell_type": "markdown",
   "metadata": {},
   "source": [
    "# Using the Model"
   ]
  },
  {
   "cell_type": "markdown",
   "metadata": {},
   "source": [
    "Using the model structure, we do sequences of feedfoward and then backpropagation to adjust the weights and biases (training/fitting)"
   ]
  },
  {
   "cell_type": "code",
   "execution_count": 32,
   "metadata": {
    "ExecuteTime": {
     "end_time": "2019-06-18T16:18:23.443468Z",
     "start_time": "2019-06-18T16:18:13.227101Z"
    },
    "scrolled": false
   },
   "outputs": [
    {
     "name": "stdout",
     "output_type": "stream",
     "text": [
      "Epoch 1/20\n",
      "90/90 [==============================] - 0s 2ms/step - loss: 1.5971\n",
      "Epoch 2/20\n",
      "90/90 [==============================] - 0s 82us/step - loss: 1.5590\n",
      "Epoch 3/20\n",
      "90/90 [==============================] - 0s 79us/step - loss: 1.5048\n",
      "Epoch 4/20\n",
      "90/90 [==============================] - 0s 65us/step - loss: 1.4474\n",
      "Epoch 5/20\n",
      "90/90 [==============================] - 0s 87us/step - loss: 1.3854\n",
      "Epoch 6/20\n",
      "90/90 [==============================] - 0s 110us/step - loss: 1.3267\n",
      "Epoch 7/20\n",
      "90/90 [==============================] - 0s 104us/step - loss: 1.2709\n",
      "Epoch 8/20\n",
      "90/90 [==============================] - 0s 112us/step - loss: 1.2219\n",
      "Epoch 9/20\n",
      "90/90 [==============================] - 0s 110us/step - loss: 1.1802\n",
      "Epoch 10/20\n",
      "90/90 [==============================] - 0s 93us/step - loss: 1.1394\n",
      "Epoch 11/20\n",
      "90/90 [==============================] - 0s 112us/step - loss: 1.1048\n",
      "Epoch 12/20\n",
      "90/90 [==============================] - 0s 102us/step - loss: 1.0724\n",
      "Epoch 13/20\n",
      "90/90 [==============================] - 0s 85us/step - loss: 1.0438\n",
      "Epoch 14/20\n",
      "90/90 [==============================] - 0s 89us/step - loss: 1.0178\n",
      "Epoch 15/20\n",
      "90/90 [==============================] - 0s 119us/step - loss: 0.9954\n",
      "Epoch 16/20\n",
      "90/90 [==============================] - 0s 91us/step - loss: 0.9745\n",
      "Epoch 17/20\n",
      "90/90 [==============================] - 0s 104us/step - loss: 0.9546\n",
      "Epoch 18/20\n",
      "90/90 [==============================] - 0s 126us/step - loss: 0.9382\n",
      "Epoch 19/20\n",
      "90/90 [==============================] - 0s 107us/step - loss: 0.9230\n",
      "Epoch 20/20\n",
      "90/90 [==============================] - 0s 89us/step - loss: 0.9106\n"
     ]
    }
   ],
   "source": [
    "history = model.fit(x_train, y_train, epochs=20, batch_size=20, verbose=1)"
   ]
  },
  {
   "cell_type": "code",
   "execution_count": 33,
   "metadata": {},
   "outputs": [
    {
     "data": {
      "image/png": "[encoded data removed]",
      "text/plain": [
       "<Figure size 936x576 with 1 Axes>"
      ]
     },
     "metadata": {
      "needs_background": "light"
     },
     "output_type": "display_data"
    }
   ],
   "source": [
    "def plot_history(history, figsize=(13, 8), color='purple', s=50, alpha=0.5):\n",
    "    plt.figure(figsize=figsize)\n",
    "    plt.grid(zorder=0, linestyle='--')\n",
    "    plt.scatter(history.epoch, history.history[\"loss\"], c=color, s=s, alpha=alpha)\n",
    "    plt.xlabel(\"epochs\")\n",
    "    plt.ylabel(\"loss\")\n",
    "    plt.show()\n",
    "    \n",
    "    \n",
    "plot_history(history)"
   ]
  },
  {
   "cell_type": "markdown",
   "metadata": {},
   "source": [
    "# Evaluating the Trained Model"
   ]
  },
  {
   "cell_type": "markdown",
   "metadata": {},
   "source": [
    "We can look at the overall loss from our test data after training the model was trained"
   ]
  },
  {
   "cell_type": "code",
   "execution_count": 34,
   "metadata": {
    "ExecuteTime": {
     "end_time": "2019-06-18T16:18:23.607022Z",
     "start_time": "2019-06-18T16:18:23.453388Z"
    }
   },
   "outputs": [
    {
     "name": "stdout",
     "output_type": "stream",
     "text": [
      "60/60 [==============================] - 0s 831us/step\n"
     ]
    },
    {
     "data": {
      "text/plain": [
       "0.9362161715825399"
      ]
     },
     "execution_count": 34,
     "metadata": {},
     "output_type": "execute_result"
    }
   ],
   "source": [
    "# Could also just use a batch to evaluate\n",
    "loss_and_metrics = model.evaluate(x_test, y_test)\n",
    "\n",
    "loss_and_metrics"
   ]
  },
  {
   "cell_type": "markdown",
   "metadata": {},
   "source": [
    "We can have predictions (probability the data point is a particular class based on our trained model)"
   ]
  },
  {
   "cell_type": "code",
   "execution_count": 35,
   "metadata": {
    "ExecuteTime": {
     "end_time": "2019-06-18T16:18:23.701142Z",
     "start_time": "2019-06-18T16:18:23.613540Z"
    },
    "scrolled": true
   },
   "outputs": [
    {
     "data": {
      "text/plain": [
       "array([[0.28151223, 0.30033693, 0.4181508 ],\n",
       "       [0.22379081, 0.37452775, 0.40168145],\n",
       "       [0.17440961, 0.33828104, 0.48730937],\n",
       "       [0.21485232, 0.39738107, 0.38776663],\n",
       "       [0.29573134, 0.30859026, 0.39567843],\n",
       "       [0.04535163, 0.3580819 , 0.5965665 ],\n",
       "       [0.23745097, 0.390741  , 0.37180805],\n",
       "       [0.11469834, 0.34370187, 0.5415998 ],\n",
       "       [0.05050412, 0.3154868 , 0.63400906],\n",
       "       [0.22578603, 0.3942466 , 0.3799674 ]], dtype=float32)"
      ]
     },
     "execution_count": 35,
     "metadata": {},
     "output_type": "execute_result"
    }
   ],
   "source": [
    "probs = model.predict(x_test)\n",
    "probs[:10]"
   ]
  },
  {
   "cell_type": "markdown",
   "metadata": {},
   "source": [
    "We want to say what is the predicted class, so we pick just the largest probability for each result"
   ]
  },
  {
   "cell_type": "code",
   "execution_count": 36,
   "metadata": {
    "ExecuteTime": {
     "end_time": "2019-06-18T16:18:23.706830Z",
     "start_time": "2019-06-18T16:18:23.703922Z"
    }
   },
   "outputs": [
    {
     "data": {
      "text/plain": [
       "array([2, 2, 2, 1, 2, 2, 1, 2, 2, 1])"
      ]
     },
     "execution_count": 36,
     "metadata": {},
     "output_type": "execute_result"
    }
   ],
   "source": [
    "predictions = np.argmax(probs, axis=1)\n",
    "\n",
    "predictions[:10]"
   ]
  },
  {
   "cell_type": "code",
   "execution_count": 37,
   "metadata": {
    "ExecuteTime": {
     "end_time": "2019-06-18T16:18:23.715400Z",
     "start_time": "2019-06-18T16:18:23.708557Z"
    }
   },
   "outputs": [
    {
     "data": {
      "text/plain": [
       "array([0.51666667])"
      ]
     },
     "execution_count": 37,
     "metadata": {},
     "output_type": "execute_result"
    }
   ],
   "source": [
    "np.sum(predictions  == np.argmax(y_test, axis=1)) / predictions.shape"
   ]
  },
  {
   "cell_type": "code",
   "execution_count": 38,
   "metadata": {},
   "outputs": [
    {
     "name": "stdout",
     "output_type": "stream",
     "text": [
      "              precision    recall  f1-score   support\n",
      "\n",
      "           0       0.75      0.13      0.22        23\n",
      "           1       0.44      0.44      0.44        16\n",
      "\n",
      "   micro avg       0.50      0.26      0.34        39\n",
      "   macro avg       0.59      0.28      0.33        39\n",
      "weighted avg       0.62      0.26      0.31        39\n",
      "\n"
     ]
    }
   ],
   "source": [
    "report = classification_report(y_test.argmax(axis=1), predictions, labels=[0, 1])\n",
    "print(report)"
   ]
  },
  {
   "cell_type": "markdown",
   "metadata": {},
   "source": [
    "Finally, we can see how accurate our model was by seeing if the predicted classes match the actual labels. Note that this is calculated differently from how the loss is calculated."
   ]
  },
  {
   "cell_type": "markdown",
   "metadata": {},
   "source": [
    "### But Behold!!!! An out of the box RFC comes into the fold! "
   ]
  },
  {
   "cell_type": "code",
   "execution_count": 39,
   "metadata": {},
   "outputs": [],
   "source": [
    "from sklearn.ensemble import RandomForestClassifier"
   ]
  },
  {
   "cell_type": "code",
   "execution_count": 40,
   "metadata": {},
   "outputs": [],
   "source": [
    "clf = RandomForestClassifier()"
   ]
  },
  {
   "cell_type": "code",
   "execution_count": 41,
   "metadata": {},
   "outputs": [
    {
     "data": {
      "text/plain": [
       "RandomForestClassifier(bootstrap=True, ccp_alpha=0.0, class_weight=None,\n",
       "                       criterion='gini', max_depth=None, max_features='auto',\n",
       "                       max_leaf_nodes=None, max_samples=None,\n",
       "                       min_impurity_decrease=0.0, min_impurity_split=None,\n",
       "                       min_samples_leaf=1, min_samples_split=2,\n",
       "                       min_weight_fraction_leaf=0.0, n_estimators=100,\n",
       "                       n_jobs=None, oob_score=False, random_state=None,\n",
       "                       verbose=0, warm_start=False)"
      ]
     },
     "execution_count": 41,
     "metadata": {},
     "output_type": "execute_result"
    }
   ],
   "source": [
    "clf.fit(x_train, y_train)"
   ]
  },
  {
   "cell_type": "code",
   "execution_count": 42,
   "metadata": {},
   "outputs": [
    {
     "data": {
      "text/plain": [
       "0.9166666666666666"
      ]
     },
     "execution_count": 42,
     "metadata": {},
     "output_type": "execute_result"
    }
   ],
   "source": [
    "clf_preds = clf.predict(x_test)\n",
    "clf.score(x_test, y_test)"
   ]
  },
  {
   "cell_type": "code",
   "execution_count": 43,
   "metadata": {},
   "outputs": [
    {
     "name": "stdout",
     "output_type": "stream",
     "text": [
      "              precision    recall  f1-score   support\n",
      "\n",
      "           0       1.00      1.00      1.00        23\n",
      "           1       0.79      0.94      0.86        16\n",
      "           2       0.94      0.81      0.87        21\n",
      "\n",
      "   micro avg       0.92      0.92      0.92        60\n",
      "   macro avg       0.91      0.92      0.91        60\n",
      "weighted avg       0.92      0.92      0.92        60\n",
      " samples avg       0.92      0.92      0.92        60\n",
      "\n"
     ]
    }
   ],
   "source": [
    "report = classification_report(y_test, clf_preds)\n",
    "print(report)"
   ]
  },
  {
   "cell_type": "markdown",
   "metadata": {},
   "source": [
    "### What did we learn?\n",
    "- NN are good for a lot of things, but are just another model\n",
    "- Learned that the bias term is incorporated as a unit node to the layer. "
   ]
  },
  {
   "cell_type": "markdown",
   "metadata": {},
   "source": [
    "### Let's add another Layer"
   ]
  },
  {
   "cell_type": "code",
   "execution_count": 44,
   "metadata": {},
   "outputs": [
    {
     "name": "stdout",
     "output_type": "stream",
     "text": [
      "_________________________________________________________________\n",
      "Layer (type)                 Output Shape              Param #   \n",
      "=================================================================\n",
      "dense_9 (Dense)              (None, 6)                 30        \n",
      "_________________________________________________________________\n",
      "dense_10 (Dense)             (None, 6)                 42        \n",
      "_________________________________________________________________\n",
      "dense_11 (Dense)             (None, 3)                 21        \n",
      "=================================================================\n",
      "Total params: 93\n",
      "Trainable params: 93\n",
      "Non-trainable params: 0\n",
      "_________________________________________________________________\n"
     ]
    }
   ],
   "source": [
    "### Let's build a new model and add another layer\n",
    "model_mlp = Sequential()\n",
    "\n",
    "\n",
    "# hidden layers\n",
    "model_mlp.add(Dense(input_dim=4, units=6, activation='relu'))\n",
    "model_mlp.add(Dense(units=6, activation='relu'))\n",
    "\n",
    "\n",
    "# classifier layer\n",
    "model_mlp.add(Dense(units=3, activation='softmax'))\n",
    "\n",
    "\n",
    "model_mlp.summary()"
   ]
  },
  {
   "cell_type": "code",
   "execution_count": 45,
   "metadata": {
    "scrolled": false
   },
   "outputs": [
    {
     "name": "stdout",
     "output_type": "stream",
     "text": [
      "Epoch 1/50\n",
      "90/90 [==============================] - 0s 2ms/step - loss: 1.0754\n",
      "Epoch 2/50\n",
      "90/90 [==============================] - 0s 76us/step - loss: 1.0718\n",
      "Epoch 3/50\n",
      "90/90 [==============================] - 0s 48us/step - loss: 1.0663\n",
      "Epoch 4/50\n",
      "90/90 [==============================] - 0s 59us/step - loss: 1.0594\n",
      "Epoch 5/50\n",
      "90/90 [==============================] - 0s 49us/step - loss: 1.0520\n",
      "Epoch 6/50\n",
      "90/90 [==============================] - 0s 54us/step - loss: 1.0436\n",
      "Epoch 7/50\n",
      "90/90 [==============================] - 0s 67us/step - loss: 1.0349\n",
      "Epoch 8/50\n",
      "90/90 [==============================] - 0s 53us/step - loss: 1.0255\n",
      "Epoch 9/50\n",
      "90/90 [==============================] - 0s 46us/step - loss: 1.0163\n",
      "Epoch 10/50\n",
      "90/90 [==============================] - 0s 51us/step - loss: 1.0063\n",
      "Epoch 11/50\n",
      "90/90 [==============================] - 0s 47us/step - loss: 0.9968\n",
      "Epoch 12/50\n",
      "90/90 [==============================] - 0s 53us/step - loss: 0.9869\n",
      "Epoch 13/50\n",
      "90/90 [==============================] - 0s 64us/step - loss: 0.9772\n",
      "Epoch 14/50\n",
      "90/90 [==============================] - 0s 89us/step - loss: 0.9675\n",
      "Epoch 15/50\n",
      "90/90 [==============================] - 0s 62us/step - loss: 0.9578\n",
      "Epoch 16/50\n",
      "90/90 [==============================] - 0s 53us/step - loss: 0.9483\n",
      "Epoch 17/50\n",
      "90/90 [==============================] - 0s 71us/step - loss: 0.9389\n",
      "Epoch 18/50\n",
      "90/90 [==============================] - 0s 78us/step - loss: 0.9291\n",
      "Epoch 19/50\n",
      "90/90 [==============================] - 0s 52us/step - loss: 0.9197\n",
      "Epoch 20/50\n",
      "90/90 [==============================] - 0s 65us/step - loss: 0.9098\n",
      "Epoch 21/50\n",
      "90/90 [==============================] - 0s 64us/step - loss: 0.9001\n",
      "Epoch 22/50\n",
      "90/90 [==============================] - 0s 79us/step - loss: 0.8906\n",
      "Epoch 23/50\n",
      "90/90 [==============================] - 0s 64us/step - loss: 0.8817\n",
      "Epoch 24/50\n",
      "90/90 [==============================] - 0s 65us/step - loss: 0.8727\n",
      "Epoch 25/50\n",
      "90/90 [==============================] - 0s 67us/step - loss: 0.8642\n",
      "Epoch 26/50\n",
      "90/90 [==============================] - 0s 68us/step - loss: 0.8557\n",
      "Epoch 27/50\n",
      "90/90 [==============================] - 0s 83us/step - loss: 0.8469\n",
      "Epoch 28/50\n",
      "90/90 [==============================] - 0s 65us/step - loss: 0.8386\n",
      "Epoch 29/50\n",
      "90/90 [==============================] - 0s 59us/step - loss: 0.8304\n",
      "Epoch 30/50\n",
      "90/90 [==============================] - 0s 62us/step - loss: 0.8224\n",
      "Epoch 31/50\n",
      "90/90 [==============================] - 0s 71us/step - loss: 0.8150\n",
      "Epoch 32/50\n",
      "90/90 [==============================] - 0s 111us/step - loss: 0.8076\n",
      "Epoch 33/50\n",
      "90/90 [==============================] - 0s 85us/step - loss: 0.8003\n",
      "Epoch 34/50\n",
      "90/90 [==============================] - 0s 64us/step - loss: 0.7935\n",
      "Epoch 35/50\n",
      "90/90 [==============================] - 0s 73us/step - loss: 0.7867\n",
      "Epoch 36/50\n",
      "90/90 [==============================] - 0s 88us/step - loss: 0.7799\n",
      "Epoch 37/50\n",
      "90/90 [==============================] - 0s 77us/step - loss: 0.7737\n",
      "Epoch 38/50\n",
      "90/90 [==============================] - 0s 64us/step - loss: 0.7673\n",
      "Epoch 39/50\n",
      "90/90 [==============================] - 0s 109us/step - loss: 0.7615\n",
      "Epoch 40/50\n",
      "90/90 [==============================] - 0s 56us/step - loss: 0.7554\n",
      "Epoch 41/50\n",
      "90/90 [==============================] - 0s 66us/step - loss: 0.7499\n",
      "Epoch 42/50\n",
      "90/90 [==============================] - 0s 75us/step - loss: 0.7443\n",
      "Epoch 43/50\n",
      "90/90 [==============================] - 0s 113us/step - loss: 0.7391\n",
      "Epoch 44/50\n",
      "90/90 [==============================] - 0s 76us/step - loss: 0.7339\n",
      "Epoch 45/50\n",
      "90/90 [==============================] - 0s 65us/step - loss: 0.7289\n",
      "Epoch 46/50\n",
      "90/90 [==============================] - 0s 75us/step - loss: 0.7239\n",
      "Epoch 47/50\n",
      "90/90 [==============================] - 0s 68us/step - loss: 0.7190\n",
      "Epoch 48/50\n",
      "90/90 [==============================] - 0s 67us/step - loss: 0.7144\n",
      "Epoch 49/50\n",
      "90/90 [==============================] - 0s 72us/step - loss: 0.7097\n",
      "Epoch 50/50\n",
      "90/90 [==============================] - 0s 70us/step - loss: 0.7053\n"
     ]
    },
    {
     "data": {
      "image/png": "[encoded data removed]",
      "text/plain": [
       "<Figure size 936x576 with 1 Axes>"
      ]
     },
     "metadata": {
      "needs_background": "light"
     },
     "output_type": "display_data"
    }
   ],
   "source": [
    "model_mlp.compile(loss=keras.losses.categorical_crossentropy, \n",
    "                  optimizer=optimizers.SGD(lr=0.001, momentum=0.9, nesterov=True))\n",
    "\n",
    "history_mlp = model_mlp.fit(x_train, y_train, epochs=50, batch_size=32, verbose=1)\n",
    "\n",
    "plot_history(history_mlp)"
   ]
  },
  {
   "cell_type": "code",
   "execution_count": 46,
   "metadata": {},
   "outputs": [
    {
     "name": "stdout",
     "output_type": "stream",
     "text": [
      "60/60 [==============================] - 0s 1ms/step\n"
     ]
    },
    {
     "data": {
      "text/plain": [
       "0.6719951947530111"
      ]
     },
     "execution_count": 46,
     "metadata": {},
     "output_type": "execute_result"
    }
   ],
   "source": [
    "loss_and_metrics = model_mlp.evaluate(x_test, y_test)\n",
    "\n",
    "loss_and_metrics"
   ]
  },
  {
   "cell_type": "code",
   "execution_count": 47,
   "metadata": {},
   "outputs": [
    {
     "data": {
      "text/plain": [
       "array([0.68333333])"
      ]
     },
     "execution_count": 47,
     "metadata": {},
     "output_type": "execute_result"
    }
   ],
   "source": [
    "probs = model_mlp.predict(x_test)\n",
    "predictions = np.argmax(probs, axis=1)\n",
    "np.sum(predictions  == np.argmax(y_test, axis=1)) / predictions.shape"
   ]
  },
  {
   "cell_type": "code",
   "execution_count": 48,
   "metadata": {},
   "outputs": [
    {
     "name": "stdout",
     "output_type": "stream",
     "text": [
      "              precision    recall  f1-score   support\n",
      "\n",
      "           0       0.96      0.96      0.96        23\n",
      "           1       0.00      0.00      0.00        16\n",
      "\n",
      "   micro avg       0.88      0.56      0.69        39\n",
      "   macro avg       0.48      0.48      0.48        39\n",
      "weighted avg       0.56      0.56      0.56        39\n",
      "\n"
     ]
    }
   ],
   "source": [
    "report = classification_report(y_test.argmax(axis=1), predictions, labels=[0, 1])\n",
    "print(report)"
   ]
  },
  {
   "cell_type": "code",
   "execution_count": 50,
   "metadata": {},
   "outputs": [
    {
     "data": {
      "text/plain": [
       "(90, 4)"
      ]
     },
     "execution_count": 50,
     "metadata": {},
     "output_type": "execute_result"
    }
   ],
   "source": [
    "x_train.shape"
   ]
  },
  {
   "cell_type": "markdown",
   "metadata": {},
   "source": [
    "#### Add another layer and plot the loss"
   ]
  },
  {
   "cell_type": "code",
   "execution_count": 51,
   "metadata": {},
   "outputs": [
    {
     "name": "stdout",
     "output_type": "stream",
     "text": [
      "_________________________________________________________________\n",
      "Layer (type)                 Output Shape              Param #   \n",
      "=================================================================\n",
      "dense_16 (Dense)             (None, 6)                 30        \n",
      "_________________________________________________________________\n",
      "dense_17 (Dense)             (None, 12)                84        \n",
      "_________________________________________________________________\n",
      "dense_18 (Dense)             (None, 24)                312       \n",
      "_________________________________________________________________\n",
      "dense_19 (Dense)             (None, 3)                 75        \n",
      "=================================================================\n",
      "Total params: 501\n",
      "Trainable params: 501\n",
      "Non-trainable params: 0\n",
      "_________________________________________________________________\n"
     ]
    },
    {
     "data": {
      "text/plain": [
       "None"
      ]
     },
     "metadata": {},
     "output_type": "display_data"
    }
   ],
   "source": [
    "# Build your model\n",
    "model_mlp = Sequential()\n",
    "\n",
    "\n",
    "# hidden layers\n",
    "model_mlp.add(Dense(input_dim=4, units=6, activation='relu'))\n",
    "model_mlp.add(Dense(units=12, activation='relu'))\n",
    "model_mlp.add(Dense(units=24, activation = 'relu'))\n",
    "\n",
    "# classifier layer\n",
    "model_mlp.add(Dense(units=3, activation='softmax'))\n",
    "\n",
    "\n",
    "display(model_mlp.summary())\n",
    "\n",
    "# Compile it\n",
    "\n",
    "\n",
    "# fit your model using 100 epochs\n"
   ]
  },
  {
   "cell_type": "code",
   "execution_count": 52,
   "metadata": {
    "scrolled": false
   },
   "outputs": [
    {
     "name": "stdout",
     "output_type": "stream",
     "text": [
      "Epoch 1/50\n",
      "90/90 [==============================] - 0s 3ms/step - loss: 1.1905\n",
      "Epoch 2/50\n",
      "90/90 [==============================] - 0s 70us/step - loss: 1.1873\n",
      "Epoch 3/50\n",
      "90/90 [==============================] - 0s 85us/step - loss: 1.1826\n",
      "Epoch 4/50\n",
      "90/90 [==============================] - 0s 82us/step - loss: 1.1766\n",
      "Epoch 5/50\n",
      "90/90 [==============================] - 0s 67us/step - loss: 1.1703\n",
      "Epoch 6/50\n",
      "90/90 [==============================] - 0s 90us/step - loss: 1.1630\n",
      "Epoch 7/50\n",
      "90/90 [==============================] - 0s 85us/step - loss: 1.1559\n",
      "Epoch 8/50\n",
      "90/90 [==============================] - 0s 70us/step - loss: 1.1492\n",
      "Epoch 9/50\n",
      "90/90 [==============================] - 0s 65us/step - loss: 1.1420\n",
      "Epoch 10/50\n",
      "90/90 [==============================] - 0s 76us/step - loss: 1.1353\n",
      "Epoch 11/50\n",
      "90/90 [==============================] - 0s 70us/step - loss: 1.1293\n",
      "Epoch 12/50\n",
      "90/90 [==============================] - 0s 73us/step - loss: 1.1230\n",
      "Epoch 13/50\n",
      "90/90 [==============================] - 0s 70us/step - loss: 1.1172\n",
      "Epoch 14/50\n",
      "90/90 [==============================] - 0s 96us/step - loss: 1.1122\n",
      "Epoch 15/50\n",
      "90/90 [==============================] - 0s 69us/step - loss: 1.1070\n",
      "Epoch 16/50\n",
      "90/90 [==============================] - 0s 80us/step - loss: 1.1027\n",
      "Epoch 17/50\n",
      "90/90 [==============================] - 0s 76us/step - loss: 1.0979\n",
      "Epoch 18/50\n",
      "90/90 [==============================] - 0s 75us/step - loss: 1.0937\n",
      "Epoch 19/50\n",
      "90/90 [==============================] - 0s 72us/step - loss: 1.0897\n",
      "Epoch 20/50\n",
      "90/90 [==============================] - 0s 95us/step - loss: 1.0856\n",
      "Epoch 21/50\n",
      "90/90 [==============================] - 0s 72us/step - loss: 1.0821\n",
      "Epoch 22/50\n",
      "90/90 [==============================] - 0s 83us/step - loss: 1.0783\n",
      "Epoch 23/50\n",
      "90/90 [==============================] - 0s 64us/step - loss: 1.0749\n",
      "Epoch 24/50\n",
      "90/90 [==============================] - 0s 98us/step - loss: 1.0717\n",
      "Epoch 25/50\n",
      "90/90 [==============================] - 0s 68us/step - loss: 1.0685\n",
      "Epoch 26/50\n",
      "90/90 [==============================] - 0s 103us/step - loss: 1.0652\n",
      "Epoch 27/50\n",
      "90/90 [==============================] - 0s 89us/step - loss: 1.0621\n",
      "Epoch 28/50\n",
      "90/90 [==============================] - 0s 87us/step - loss: 1.0590\n",
      "Epoch 29/50\n",
      "90/90 [==============================] - 0s 92us/step - loss: 1.0560\n",
      "Epoch 30/50\n",
      "90/90 [==============================] - 0s 70us/step - loss: 1.0530\n",
      "Epoch 31/50\n",
      "90/90 [==============================] - 0s 84us/step - loss: 1.0502\n",
      "Epoch 32/50\n",
      "90/90 [==============================] - 0s 77us/step - loss: 1.0469\n",
      "Epoch 33/50\n",
      "90/90 [==============================] - 0s 69us/step - loss: 1.0441\n",
      "Epoch 34/50\n",
      "90/90 [==============================] - 0s 72us/step - loss: 1.0413\n",
      "Epoch 35/50\n",
      "90/90 [==============================] - 0s 93us/step - loss: 1.0383\n",
      "Epoch 36/50\n",
      "90/90 [==============================] - 0s 69us/step - loss: 1.0352\n",
      "Epoch 37/50\n",
      "90/90 [==============================] - 0s 55us/step - loss: 1.0322\n",
      "Epoch 38/50\n",
      "90/90 [==============================] - 0s 84us/step - loss: 1.0294\n",
      "Epoch 39/50\n",
      "90/90 [==============================] - 0s 94us/step - loss: 1.0265\n",
      "Epoch 40/50\n",
      "90/90 [==============================] - 0s 89us/step - loss: 1.0234\n",
      "Epoch 41/50\n",
      "90/90 [==============================] - 0s 85us/step - loss: 1.0206\n",
      "Epoch 42/50\n",
      "90/90 [==============================] - 0s 63us/step - loss: 1.0177\n",
      "Epoch 43/50\n",
      "90/90 [==============================] - 0s 97us/step - loss: 1.0147\n",
      "Epoch 44/50\n",
      "90/90 [==============================] - 0s 77us/step - loss: 1.0117\n",
      "Epoch 45/50\n",
      "90/90 [==============================] - 0s 90us/step - loss: 1.0089\n",
      "Epoch 46/50\n",
      "90/90 [==============================] - 0s 84us/step - loss: 1.0058\n",
      "Epoch 47/50\n",
      "90/90 [==============================] - 0s 114us/step - loss: 1.0027\n",
      "Epoch 48/50\n",
      "90/90 [==============================] - 0s 84us/step - loss: 0.9996\n",
      "Epoch 49/50\n",
      "90/90 [==============================] - 0s 71us/step - loss: 0.9964\n",
      "Epoch 50/50\n",
      "90/90 [==============================] - 0s 100us/step - loss: 0.9932\n"
     ]
    },
    {
     "data": {
      "image/png": "[encoded data removed]",
      "text/plain": [
       "<Figure size 936x576 with 1 Axes>"
      ]
     },
     "metadata": {
      "needs_background": "light"
     },
     "output_type": "display_data"
    }
   ],
   "source": [
    "model_mlp.compile(loss=keras.losses.categorical_crossentropy, \n",
    "                  optimizer=optimizers.SGD(lr=0.001, momentum=0.9, nesterov=True))\n",
    "\n",
    "history_mlp = model_mlp.fit(x_train, y_train, epochs=50, batch_size=32, verbose=1)\n",
    "\n",
    "plot_history(history_mlp)"
   ]
  },
  {
   "cell_type": "code",
   "execution_count": 53,
   "metadata": {},
   "outputs": [
    {
     "name": "stdout",
     "output_type": "stream",
     "text": [
      "60/60 [==============================] - 0s 1ms/step\n"
     ]
    },
    {
     "data": {
      "text/plain": [
       "0.9922607819239299"
      ]
     },
     "execution_count": 53,
     "metadata": {},
     "output_type": "execute_result"
    }
   ],
   "source": [
    "# Evaluate your model\n",
    "model_mlp.evaluate(x_test, y_test)"
   ]
  },
  {
   "cell_type": "code",
   "execution_count": 54,
   "metadata": {},
   "outputs": [
    {
     "data": {
      "image/png": "[encoded data removed]",
      "text/plain": [
       "<Figure size 936x576 with 1 Axes>"
      ]
     },
     "metadata": {
      "needs_background": "light"
     },
     "output_type": "display_data"
    }
   ],
   "source": [
    "# Plot your loss\n",
    "plot_history(history_mlp)"
   ]
  },
  {
   "cell_type": "code",
   "execution_count": 52,
   "metadata": {},
   "outputs": [
    {
     "name": "stdout",
     "output_type": "stream",
     "text": [
      "_________________________________________________________________\n",
      "Layer (type)                 Output Shape              Param #   \n",
      "=================================================================\n",
      "dense_17 (Dense)             (None, 32)                352       \n",
      "_________________________________________________________________\n",
      "dense_18 (Dense)             (None, 16)                528       \n",
      "_________________________________________________________________\n",
      "dense_19 (Dense)             (None, 2)                 34        \n",
      "=================================================================\n",
      "Total params: 914\n",
      "Trainable params: 914\n",
      "Non-trainable params: 0\n",
      "_________________________________________________________________\n"
     ]
    }
   ],
   "source": [
    "### Let's make it better\n",
    "### Let's build a new model with 2 layers but a different optimizer\n",
    "### User ADAM optimization\n",
    "model_mlp = Sequential()\n",
    "\n",
    "\n",
    "# hidden layers\n",
    "model_mlp.add(Dense(input_dim=10, units=32, activation='relu'))\n",
    "model_mlp.add(Dense(units=16, activation='relu'))\n",
    "\n",
    "\n",
    "# classifier layer\n",
    "model_mlp.add(Dense(units=2, activation='softmax'))\n",
    "\n",
    "\n",
    "model_mlp.summary()"
   ]
  },
  {
   "cell_type": "code",
   "execution_count": 53,
   "metadata": {},
   "outputs": [],
   "source": [
    "model_mlp.compile(loss='categorical_crossentropy', optimizer=optimizers.Adam())"
   ]
  },
  {
   "cell_type": "code",
   "execution_count": 54,
   "metadata": {},
   "outputs": [
    {
     "name": "stdout",
     "output_type": "stream",
     "text": [
      "Epoch 1/50\n",
      "11412/11412 [==============================] - 1s 86us/step - loss: 0.4761\n",
      "Epoch 2/50\n",
      "11412/11412 [==============================] - 0s 31us/step - loss: 0.3699\n",
      "Epoch 3/50\n",
      "11412/11412 [==============================] - 0s 36us/step - loss: 0.3468\n",
      "Epoch 4/50\n",
      "11412/11412 [==============================] - 0s 36us/step - loss: 0.3368\n",
      "Epoch 5/50\n",
      "11412/11412 [==============================] - 0s 33us/step - loss: 0.3305\n",
      "Epoch 6/50\n",
      "11412/11412 [==============================] - 0s 35us/step - loss: 0.3259\n",
      "Epoch 7/50\n",
      "11412/11412 [==============================] - 0s 37us/step - loss: 0.3218: 0s - loss: 0.322\n",
      "Epoch 8/50\n",
      "11412/11412 [==============================] - 0s 42us/step - loss: 0.3192\n",
      "Epoch 9/50\n",
      "11412/11412 [==============================] - 0s 38us/step - loss: 0.3167\n",
      "Epoch 10/50\n",
      "11412/11412 [==============================] - 0s 38us/step - loss: 0.3145\n",
      "Epoch 11/50\n",
      "11412/11412 [==============================] - 0s 37us/step - loss: 0.3117\n",
      "Epoch 12/50\n",
      "11412/11412 [==============================] - 0s 36us/step - loss: 0.3099\n",
      "Epoch 13/50\n",
      "11412/11412 [==============================] - 0s 39us/step - loss: 0.3088\n",
      "Epoch 14/50\n",
      "11412/11412 [==============================] - 0s 33us/step - loss: 0.3065\n",
      "Epoch 15/50\n",
      "11412/11412 [==============================] - 0s 34us/step - loss: 0.3059\n",
      "Epoch 16/50\n",
      "11412/11412 [==============================] - 0s 30us/step - loss: 0.3047\n",
      "Epoch 17/50\n",
      "11412/11412 [==============================] - 0s 36us/step - loss: 0.3034\n",
      "Epoch 18/50\n",
      "11412/11412 [==============================] - 0s 36us/step - loss: 0.3017\n",
      "Epoch 19/50\n",
      "11412/11412 [==============================] - 0s 32us/step - loss: 0.3009\n",
      "Epoch 20/50\n",
      "11412/11412 [==============================] - 0s 35us/step - loss: 0.3013\n",
      "Epoch 21/50\n",
      "11412/11412 [==============================] - 0s 38us/step - loss: 0.3000\n",
      "Epoch 22/50\n",
      "11412/11412 [==============================] - 0s 29us/step - loss: 0.2988: 0s - loss: 0.30\n",
      "Epoch 23/50\n",
      "11412/11412 [==============================] - 0s 26us/step - loss: 0.2974\n",
      "Epoch 24/50\n",
      "11412/11412 [==============================] - 0s 32us/step - loss: 0.2962\n",
      "Epoch 25/50\n",
      "11412/11412 [==============================] - 0s 33us/step - loss: 0.2964\n",
      "Epoch 26/50\n",
      "11412/11412 [==============================] - 0s 31us/step - loss: 0.2951\n",
      "Epoch 27/50\n",
      "11412/11412 [==============================] - 0s 31us/step - loss: 0.2949\n",
      "Epoch 28/50\n",
      "11412/11412 [==============================] - 0s 32us/step - loss: 0.2944\n",
      "Epoch 29/50\n",
      "11412/11412 [==============================] - 0s 36us/step - loss: 0.2934\n",
      "Epoch 30/50\n",
      "11412/11412 [==============================] - 0s 30us/step - loss: 0.2918\n",
      "Epoch 31/50\n",
      "11412/11412 [==============================] - 0s 37us/step - loss: 0.2910\n",
      "Epoch 32/50\n",
      "11412/11412 [==============================] - 0s 37us/step - loss: 0.2906\n",
      "Epoch 33/50\n",
      "11412/11412 [==============================] - 0s 33us/step - loss: 0.2895: 0s - loss: 0.28\n",
      "Epoch 34/50\n",
      "11412/11412 [==============================] - 0s 36us/step - loss: 0.2891\n",
      "Epoch 35/50\n",
      "11412/11412 [==============================] - 0s 33us/step - loss: 0.2879\n",
      "Epoch 36/50\n",
      "11412/11412 [==============================] - 0s 33us/step - loss: 0.2878\n",
      "Epoch 37/50\n",
      "11412/11412 [==============================] - 0s 35us/step - loss: 0.2881\n",
      "Epoch 38/50\n",
      "11412/11412 [==============================] - 0s 35us/step - loss: 0.2866\n",
      "Epoch 39/50\n",
      "11412/11412 [==============================] - 0s 32us/step - loss: 0.2865\n",
      "Epoch 40/50\n",
      "11412/11412 [==============================] - 0s 33us/step - loss: 0.2861\n",
      "Epoch 41/50\n",
      "11412/11412 [==============================] - 0s 31us/step - loss: 0.2849\n",
      "Epoch 42/50\n",
      "11412/11412 [==============================] - 0s 33us/step - loss: 0.2850\n",
      "Epoch 43/50\n",
      "11412/11412 [==============================] - 0s 36us/step - loss: 0.2846\n",
      "Epoch 44/50\n",
      "11412/11412 [==============================] - 0s 32us/step - loss: 0.2829\n",
      "Epoch 45/50\n",
      "11412/11412 [==============================] - 0s 34us/step - loss: 0.2831\n",
      "Epoch 46/50\n",
      "11412/11412 [==============================] - 0s 32us/step - loss: 0.2828\n",
      "Epoch 47/50\n",
      "11412/11412 [==============================] - 0s 39us/step - loss: 0.2820\n",
      "Epoch 48/50\n",
      "11412/11412 [==============================] - 0s 34us/step - loss: 0.2815\n",
      "Epoch 49/50\n",
      "11412/11412 [==============================] - 0s 32us/step - loss: 0.2822\n",
      "Epoch 50/50\n",
      "11412/11412 [==============================] - 0s 30us/step - loss: 0.2812\n"
     ]
    }
   ],
   "source": [
    "history_mlp = model_mlp.fit(x_train, y_train, batch_size=64, epochs=50)"
   ]
  },
  {
   "cell_type": "code",
   "execution_count": 55,
   "metadata": {},
   "outputs": [
    {
     "data": {
      "image/png": "[encoded data removed]",
      "text/plain": [
       "<Figure size 936x576 with 1 Axes>"
      ]
     },
     "metadata": {
      "needs_background": "light"
     },
     "output_type": "display_data"
    }
   ],
   "source": [
    "plot_history(history_mlp)"
   ]
  },
  {
   "cell_type": "code",
   "execution_count": 56,
   "metadata": {},
   "outputs": [
    {
     "name": "stdout",
     "output_type": "stream",
     "text": [
      "7608/7608 [==============================] - 0s 35us/step\n"
     ]
    },
    {
     "data": {
      "text/plain": [
       "0.3239707359192123"
      ]
     },
     "execution_count": 56,
     "metadata": {},
     "output_type": "execute_result"
    }
   ],
   "source": [
    "model_mlp.evaluate(x_test, y_test)"
   ]
  },
  {
   "cell_type": "code",
   "execution_count": 57,
   "metadata": {},
   "outputs": [
    {
     "data": {
      "text/plain": [
       "array([0.86671924])"
      ]
     },
     "execution_count": 57,
     "metadata": {},
     "output_type": "execute_result"
    }
   ],
   "source": [
    "probs = model_mlp.predict(x_test)\n",
    "predictions = np.argmax(probs, axis=1)\n",
    "np.sum(predictions  == np.argmax(y_test, axis=1)) / predictions.shape"
   ]
  },
  {
   "cell_type": "code",
   "execution_count": 58,
   "metadata": {},
   "outputs": [
    {
     "name": "stdout",
     "output_type": "stream",
     "text": [
      "              precision    recall  f1-score   support\n",
      "\n",
      "           0       0.86      0.95      0.90      4889\n",
      "           1       0.89      0.72      0.79      2719\n",
      "\n",
      "    accuracy                           0.87      7608\n",
      "   macro avg       0.87      0.83      0.85      7608\n",
      "weighted avg       0.87      0.87      0.86      7608\n",
      "\n"
     ]
    }
   ],
   "source": [
    "print(classification_report(y_test.argmax(axis=1), predictions))"
   ]
  },
  {
   "cell_type": "markdown",
   "metadata": {},
   "source": [
    "### What did we learn?\n",
    "- Use ADAM optimization\n",
    "- Best practices for Deep Learning\n",
    "    - ADAM/ReLu/Softmax\n",
    "    - Onehotencode Labels"
   ]
  },
  {
   "cell_type": "code",
   "execution_count": null,
   "metadata": {},
   "outputs": [],
   "source": []
  }
 ],
 "metadata": {
  "kernelspec": {
   "display_name": "Python [conda env:flatiron-env] *",
   "language": "python",
   "name": "conda-env-flatiron-env-py"
  },
  "language_info": {
   "codemirror_mode": {
    "name": "ipython",
    "version": 3
   },
   "file_extension": ".py",
   "mimetype": "text/x-python",
   "name": "python",
   "nbconvert_exporter": "python",
   "pygments_lexer": "ipython3",
   "version": "3.6.0"
  },
  "toc": {
   "base_numbering": 1,
   "nav_menu": {},
   "number_sections": true,
   "sideBar": true,
   "skip_h1_title": false,
   "title_cell": "Table of Contents",
   "title_sidebar": "Contents",
   "toc_cell": false,
   "toc_position": {},
   "toc_section_display": true,
   "toc_window_display": false
  },
  "varInspector": {
   "cols": {
    "lenName": 16,
    "lenType": 16,
    "lenVar": 40
   },
   "kernels_config": {
    "python": {
     "delete_cmd_postfix": "",
     "delete_cmd_prefix": "del ",
     "library": "var_list.py",
     "varRefreshCmd": "print(var_dic_list())"
    },
    "r": {
     "delete_cmd_postfix": ") ",
     "delete_cmd_prefix": "rm(",
     "library": "var_list.r",
     "varRefreshCmd": "cat(var_dic_list()) "
    }
   },
   "types_to_exclude": [
    "module",
    "function",
    "builtin_function_or_method",
    "instance",
    "_Feature"
   ],
   "window_display": false
  }
 },
 "nbformat": 4,
 "nbformat_minor": 2
}
